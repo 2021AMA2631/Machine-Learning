{
 "cells": [
  {
   "cell_type": "code",
   "execution_count": 1,
   "id": "360df34c",
   "metadata": {},
   "outputs": [],
   "source": [
    "import numpy as np\n",
    "import pandas as pd\n",
    "import matplotlib.pyplot as plt\n",
    "import seaborn as sns"
   ]
  },
  {
   "cell_type": "code",
   "execution_count": 2,
   "id": "c638cf46",
   "metadata": {},
   "outputs": [],
   "source": [
    "df = pd.read_csv(\"feat_25.csv\")"
   ]
  },
  {
   "cell_type": "code",
   "execution_count": 3,
   "id": "2b6b6b4b",
   "metadata": {
    "scrolled": true
   },
   "outputs": [
    {
     "data": {
      "text/html": [
       "<div>\n",
       "<style scoped>\n",
       "    .dataframe tbody tr th:only-of-type {\n",
       "        vertical-align: middle;\n",
       "    }\n",
       "\n",
       "    .dataframe tbody tr th {\n",
       "        vertical-align: top;\n",
       "    }\n",
       "\n",
       "    .dataframe thead th {\n",
       "        text-align: right;\n",
       "    }\n",
       "</style>\n",
       "<table border=\"1\" class=\"dataframe\">\n",
       "  <thead>\n",
       "    <tr style=\"text-align: right;\">\n",
       "      <th></th>\n",
       "      <th>1</th>\n",
       "      <th>2</th>\n",
       "      <th>3</th>\n",
       "      <th>4</th>\n",
       "      <th>5</th>\n",
       "      <th>6</th>\n",
       "      <th>7</th>\n",
       "      <th>8</th>\n",
       "      <th>9</th>\n",
       "      <th>10</th>\n",
       "      <th>...</th>\n",
       "      <th>17</th>\n",
       "      <th>18</th>\n",
       "      <th>19</th>\n",
       "      <th>20</th>\n",
       "      <th>21</th>\n",
       "      <th>22</th>\n",
       "      <th>23</th>\n",
       "      <th>24</th>\n",
       "      <th>25</th>\n",
       "      <th>class</th>\n",
       "    </tr>\n",
       "  </thead>\n",
       "  <tbody>\n",
       "    <tr>\n",
       "      <th>0</th>\n",
       "      <td>1.977852</td>\n",
       "      <td>-0.346314</td>\n",
       "      <td>-0.570131</td>\n",
       "      <td>0.195685</td>\n",
       "      <td>-0.537241</td>\n",
       "      <td>0.126797</td>\n",
       "      <td>-0.274765</td>\n",
       "      <td>-1.103073</td>\n",
       "      <td>-1.278260</td>\n",
       "      <td>1.511290</td>\n",
       "      <td>...</td>\n",
       "      <td>-0.062213</td>\n",
       "      <td>-0.578102</td>\n",
       "      <td>-1.330746</td>\n",
       "      <td>-0.080511</td>\n",
       "      <td>0.859483</td>\n",
       "      <td>-0.270657</td>\n",
       "      <td>0.691702</td>\n",
       "      <td>-1.398070</td>\n",
       "      <td>1.174889</td>\n",
       "      <td>0</td>\n",
       "    </tr>\n",
       "    <tr>\n",
       "      <th>1</th>\n",
       "      <td>1.613268</td>\n",
       "      <td>0.222368</td>\n",
       "      <td>2.413506</td>\n",
       "      <td>-0.297182</td>\n",
       "      <td>-0.636701</td>\n",
       "      <td>1.581054</td>\n",
       "      <td>-0.016959</td>\n",
       "      <td>1.798778</td>\n",
       "      <td>1.045940</td>\n",
       "      <td>0.576654</td>\n",
       "      <td>...</td>\n",
       "      <td>0.124139</td>\n",
       "      <td>-0.095510</td>\n",
       "      <td>-0.703692</td>\n",
       "      <td>2.073224</td>\n",
       "      <td>0.806465</td>\n",
       "      <td>1.295816</td>\n",
       "      <td>1.041119</td>\n",
       "      <td>0.305158</td>\n",
       "      <td>-0.494254</td>\n",
       "      <td>0</td>\n",
       "    </tr>\n",
       "    <tr>\n",
       "      <th>2</th>\n",
       "      <td>2.488947</td>\n",
       "      <td>-0.155082</td>\n",
       "      <td>-0.977093</td>\n",
       "      <td>0.582125</td>\n",
       "      <td>-1.043786</td>\n",
       "      <td>-0.980330</td>\n",
       "      <td>1.193903</td>\n",
       "      <td>-0.953012</td>\n",
       "      <td>0.002710</td>\n",
       "      <td>0.289364</td>\n",
       "      <td>...</td>\n",
       "      <td>1.129174</td>\n",
       "      <td>-0.734398</td>\n",
       "      <td>-1.701867</td>\n",
       "      <td>0.146096</td>\n",
       "      <td>1.633311</td>\n",
       "      <td>0.210991</td>\n",
       "      <td>0.588574</td>\n",
       "      <td>0.043234</td>\n",
       "      <td>0.998827</td>\n",
       "      <td>0</td>\n",
       "    </tr>\n",
       "    <tr>\n",
       "      <th>3</th>\n",
       "      <td>1.606905</td>\n",
       "      <td>-1.352302</td>\n",
       "      <td>-1.413311</td>\n",
       "      <td>0.527138</td>\n",
       "      <td>-2.009455</td>\n",
       "      <td>-1.938931</td>\n",
       "      <td>0.002983</td>\n",
       "      <td>-0.616852</td>\n",
       "      <td>-1.219592</td>\n",
       "      <td>-0.797112</td>\n",
       "      <td>...</td>\n",
       "      <td>-0.222080</td>\n",
       "      <td>-0.310110</td>\n",
       "      <td>2.025611</td>\n",
       "      <td>-1.902873</td>\n",
       "      <td>-0.760754</td>\n",
       "      <td>1.043425</td>\n",
       "      <td>-2.082864</td>\n",
       "      <td>0.233015</td>\n",
       "      <td>-1.243373</td>\n",
       "      <td>0</td>\n",
       "    </tr>\n",
       "    <tr>\n",
       "      <th>4</th>\n",
       "      <td>0.566573</td>\n",
       "      <td>0.313999</td>\n",
       "      <td>0.132044</td>\n",
       "      <td>-1.281047</td>\n",
       "      <td>0.191348</td>\n",
       "      <td>0.922912</td>\n",
       "      <td>0.109798</td>\n",
       "      <td>1.494402</td>\n",
       "      <td>-0.856606</td>\n",
       "      <td>0.027243</td>\n",
       "      <td>...</td>\n",
       "      <td>-0.088047</td>\n",
       "      <td>-0.090599</td>\n",
       "      <td>-0.987043</td>\n",
       "      <td>1.001203</td>\n",
       "      <td>1.398321</td>\n",
       "      <td>-0.235463</td>\n",
       "      <td>-1.505669</td>\n",
       "      <td>1.464694</td>\n",
       "      <td>0.216427</td>\n",
       "      <td>0</td>\n",
       "    </tr>\n",
       "  </tbody>\n",
       "</table>\n",
       "<p>5 rows × 26 columns</p>\n",
       "</div>"
      ],
      "text/plain": [
       "          1         2         3         4         5         6         7  \\\n",
       "0  1.977852 -0.346314 -0.570131  0.195685 -0.537241  0.126797 -0.274765   \n",
       "1  1.613268  0.222368  2.413506 -0.297182 -0.636701  1.581054 -0.016959   \n",
       "2  2.488947 -0.155082 -0.977093  0.582125 -1.043786 -0.980330  1.193903   \n",
       "3  1.606905 -1.352302 -1.413311  0.527138 -2.009455 -1.938931  0.002983   \n",
       "4  0.566573  0.313999  0.132044 -1.281047  0.191348  0.922912  0.109798   \n",
       "\n",
       "          8         9        10  ...        17        18        19        20  \\\n",
       "0 -1.103073 -1.278260  1.511290  ... -0.062213 -0.578102 -1.330746 -0.080511   \n",
       "1  1.798778  1.045940  0.576654  ...  0.124139 -0.095510 -0.703692  2.073224   \n",
       "2 -0.953012  0.002710  0.289364  ...  1.129174 -0.734398 -1.701867  0.146096   \n",
       "3 -0.616852 -1.219592 -0.797112  ... -0.222080 -0.310110  2.025611 -1.902873   \n",
       "4  1.494402 -0.856606  0.027243  ... -0.088047 -0.090599 -0.987043  1.001203   \n",
       "\n",
       "         21        22        23        24        25  class  \n",
       "0  0.859483 -0.270657  0.691702 -1.398070  1.174889      0  \n",
       "1  0.806465  1.295816  1.041119  0.305158 -0.494254      0  \n",
       "2  1.633311  0.210991  0.588574  0.043234  0.998827      0  \n",
       "3 -0.760754  1.043425 -2.082864  0.233015 -1.243373      0  \n",
       "4  1.398321 -0.235463 -1.505669  1.464694  0.216427      0  \n",
       "\n",
       "[5 rows x 26 columns]"
      ]
     },
     "execution_count": 3,
     "metadata": {},
     "output_type": "execute_result"
    }
   ],
   "source": [
    "df.head()"
   ]
  },
  {
   "cell_type": "code",
   "execution_count": 4,
   "id": "81865c87",
   "metadata": {},
   "outputs": [
    {
     "data": {
      "text/plain": [
       "Index(['1', '2', '3', '4', '5', '6', '7', '8', '9', '10', '11', '12', '13',\n",
       "       '14', '15', '16', '17', '18', '19', '20', '21', '22', '23', '24', '25',\n",
       "       'class'],\n",
       "      dtype='object')"
      ]
     },
     "execution_count": 4,
     "metadata": {},
     "output_type": "execute_result"
    }
   ],
   "source": [
    "df.columns"
   ]
  },
  {
   "cell_type": "code",
   "execution_count": 5,
   "id": "6dbf9ccd",
   "metadata": {},
   "outputs": [
    {
     "data": {
      "text/plain": [
       "array([0, 1, 2, 3, 4, 5, 6, 7, 8, 9], dtype=int64)"
      ]
     },
     "execution_count": 5,
     "metadata": {},
     "output_type": "execute_result"
    }
   ],
   "source": [
    "df['class'].unique()"
   ]
  },
  {
   "cell_type": "code",
   "execution_count": 6,
   "id": "b35f6c85",
   "metadata": {},
   "outputs": [
    {
     "name": "stderr",
     "output_type": "stream",
     "text": [
      "C:\\Users\\B P Patel\\anaconda3\\lib\\site-packages\\seaborn\\_decorators.py:36: FutureWarning: Pass the following variable as a keyword arg: x. From version 0.12, the only valid positional argument will be `data`, and passing other arguments without an explicit keyword will result in an error or misinterpretation.\n",
      "  warnings.warn(\n"
     ]
    },
    {
     "data": {
      "image/png": "[encoded data removed]",
      "text/plain": [
       "<Figure size 432x288 with 1 Axes>"
      ]
     },
     "metadata": {
      "needs_background": "light"
     },
     "output_type": "display_data"
    }
   ],
   "source": [
    "sns.countplot('class',data=df)\n",
    "plt.show()"
   ]
  },
  {
   "cell_type": "code",
   "execution_count": 7,
   "id": "71044206",
   "metadata": {},
   "outputs": [],
   "source": [
    "from sklearn.svm import SVC\n",
    "from sklearn.model_selection import GridSearchCV\n",
    "from sklearn.model_selection import StratifiedKFold\n",
    "from sklearn.preprocessing import StandardScaler\n",
    "from sklearn.metrics import confusion_matrix,classification_report"
   ]
  },
  {
   "cell_type": "code",
   "execution_count": 8,
   "id": "e5d2613b",
   "metadata": {},
   "outputs": [],
   "source": [
    "# for class label '0'\n",
    "features1 = df.iloc[0:300,:25]\n",
    "labels1 = df.iloc[0:300,25:]\n",
    "df1= pd.concat([features1,labels1],axis=1)\n",
    "df1 = df1.reindex(np.random.permutation(df1.index))\n",
    "\n",
    "# for class label '1'\n",
    "features2 = df.iloc[300:600,:25]\n",
    "labels2 = df.iloc[300:600,25:]\n",
    "df2= pd.concat([features2,labels2],axis=1)\n",
    "df2 = df2.reindex(np.random.permutation(df2.index))"
   ]
  },
  {
   "cell_type": "code",
   "execution_count": 9,
   "id": "325bc8a4",
   "metadata": {
    "scrolled": true
   },
   "outputs": [
    {
     "data": {
      "text/html": [
       "<div>\n",
       "<style scoped>\n",
       "    .dataframe tbody tr th:only-of-type {\n",
       "        vertical-align: middle;\n",
       "    }\n",
       "\n",
       "    .dataframe tbody tr th {\n",
       "        vertical-align: top;\n",
       "    }\n",
       "\n",
       "    .dataframe thead th {\n",
       "        text-align: right;\n",
       "    }\n",
       "</style>\n",
       "<table border=\"1\" class=\"dataframe\">\n",
       "  <thead>\n",
       "    <tr style=\"text-align: right;\">\n",
       "      <th></th>\n",
       "      <th>1</th>\n",
       "      <th>2</th>\n",
       "      <th>3</th>\n",
       "      <th>4</th>\n",
       "      <th>5</th>\n",
       "      <th>6</th>\n",
       "      <th>7</th>\n",
       "      <th>8</th>\n",
       "      <th>9</th>\n",
       "      <th>10</th>\n",
       "      <th>...</th>\n",
       "      <th>17</th>\n",
       "      <th>18</th>\n",
       "      <th>19</th>\n",
       "      <th>20</th>\n",
       "      <th>21</th>\n",
       "      <th>22</th>\n",
       "      <th>23</th>\n",
       "      <th>24</th>\n",
       "      <th>25</th>\n",
       "      <th>class</th>\n",
       "    </tr>\n",
       "  </thead>\n",
       "  <tbody>\n",
       "    <tr>\n",
       "      <th>87</th>\n",
       "      <td>1.747845</td>\n",
       "      <td>-0.333162</td>\n",
       "      <td>0.216835</td>\n",
       "      <td>-0.466235</td>\n",
       "      <td>-0.937435</td>\n",
       "      <td>-0.075794</td>\n",
       "      <td>0.596548</td>\n",
       "      <td>-0.372813</td>\n",
       "      <td>-2.293972</td>\n",
       "      <td>-0.076439</td>\n",
       "      <td>...</td>\n",
       "      <td>1.136980</td>\n",
       "      <td>0.934861</td>\n",
       "      <td>-0.812932</td>\n",
       "      <td>-0.252884</td>\n",
       "      <td>-0.305135</td>\n",
       "      <td>-0.063763</td>\n",
       "      <td>0.829716</td>\n",
       "      <td>-0.185170</td>\n",
       "      <td>-0.506153</td>\n",
       "      <td>0</td>\n",
       "    </tr>\n",
       "    <tr>\n",
       "      <th>154</th>\n",
       "      <td>0.984103</td>\n",
       "      <td>-0.244275</td>\n",
       "      <td>0.215319</td>\n",
       "      <td>0.049030</td>\n",
       "      <td>-2.442785</td>\n",
       "      <td>0.281603</td>\n",
       "      <td>-1.378010</td>\n",
       "      <td>-0.654622</td>\n",
       "      <td>-0.967402</td>\n",
       "      <td>-0.047145</td>\n",
       "      <td>...</td>\n",
       "      <td>-0.869049</td>\n",
       "      <td>0.398358</td>\n",
       "      <td>0.681122</td>\n",
       "      <td>-0.523527</td>\n",
       "      <td>0.587175</td>\n",
       "      <td>-0.185349</td>\n",
       "      <td>-0.333442</td>\n",
       "      <td>-0.212942</td>\n",
       "      <td>-0.219655</td>\n",
       "      <td>0</td>\n",
       "    </tr>\n",
       "    <tr>\n",
       "      <th>182</th>\n",
       "      <td>2.072664</td>\n",
       "      <td>-0.381203</td>\n",
       "      <td>1.246662</td>\n",
       "      <td>-1.303820</td>\n",
       "      <td>-1.766978</td>\n",
       "      <td>1.260860</td>\n",
       "      <td>-1.228947</td>\n",
       "      <td>0.346562</td>\n",
       "      <td>-0.527951</td>\n",
       "      <td>0.208226</td>\n",
       "      <td>...</td>\n",
       "      <td>-1.102785</td>\n",
       "      <td>-0.939893</td>\n",
       "      <td>0.259029</td>\n",
       "      <td>1.037350</td>\n",
       "      <td>0.546937</td>\n",
       "      <td>-0.654530</td>\n",
       "      <td>0.007191</td>\n",
       "      <td>0.289689</td>\n",
       "      <td>0.051833</td>\n",
       "      <td>0</td>\n",
       "    </tr>\n",
       "    <tr>\n",
       "      <th>67</th>\n",
       "      <td>1.693414</td>\n",
       "      <td>-0.510273</td>\n",
       "      <td>1.088665</td>\n",
       "      <td>-1.145955</td>\n",
       "      <td>-2.414188</td>\n",
       "      <td>1.173394</td>\n",
       "      <td>-0.890167</td>\n",
       "      <td>0.230481</td>\n",
       "      <td>0.768482</td>\n",
       "      <td>-0.245739</td>\n",
       "      <td>...</td>\n",
       "      <td>-1.149028</td>\n",
       "      <td>-1.691784</td>\n",
       "      <td>0.745662</td>\n",
       "      <td>-0.805417</td>\n",
       "      <td>0.965230</td>\n",
       "      <td>-0.995266</td>\n",
       "      <td>-0.081629</td>\n",
       "      <td>0.360819</td>\n",
       "      <td>0.720136</td>\n",
       "      <td>0</td>\n",
       "    </tr>\n",
       "    <tr>\n",
       "      <th>55</th>\n",
       "      <td>1.815164</td>\n",
       "      <td>2.162170</td>\n",
       "      <td>1.536615</td>\n",
       "      <td>1.023588</td>\n",
       "      <td>0.108153</td>\n",
       "      <td>-0.136554</td>\n",
       "      <td>0.825515</td>\n",
       "      <td>0.538671</td>\n",
       "      <td>4.277149</td>\n",
       "      <td>-1.248432</td>\n",
       "      <td>...</td>\n",
       "      <td>-1.861822</td>\n",
       "      <td>0.743639</td>\n",
       "      <td>-1.633052</td>\n",
       "      <td>0.234543</td>\n",
       "      <td>-1.509550</td>\n",
       "      <td>1.261211</td>\n",
       "      <td>-2.262638</td>\n",
       "      <td>1.143696</td>\n",
       "      <td>-0.704671</td>\n",
       "      <td>0</td>\n",
       "    </tr>\n",
       "    <tr>\n",
       "      <th>...</th>\n",
       "      <td>...</td>\n",
       "      <td>...</td>\n",
       "      <td>...</td>\n",
       "      <td>...</td>\n",
       "      <td>...</td>\n",
       "      <td>...</td>\n",
       "      <td>...</td>\n",
       "      <td>...</td>\n",
       "      <td>...</td>\n",
       "      <td>...</td>\n",
       "      <td>...</td>\n",
       "      <td>...</td>\n",
       "      <td>...</td>\n",
       "      <td>...</td>\n",
       "      <td>...</td>\n",
       "      <td>...</td>\n",
       "      <td>...</td>\n",
       "      <td>...</td>\n",
       "      <td>...</td>\n",
       "      <td>...</td>\n",
       "      <td>...</td>\n",
       "    </tr>\n",
       "    <tr>\n",
       "      <th>280</th>\n",
       "      <td>2.478896</td>\n",
       "      <td>0.061802</td>\n",
       "      <td>0.402953</td>\n",
       "      <td>0.302194</td>\n",
       "      <td>-2.782984</td>\n",
       "      <td>-1.111142</td>\n",
       "      <td>1.594351</td>\n",
       "      <td>-0.893003</td>\n",
       "      <td>1.908376</td>\n",
       "      <td>-2.242434</td>\n",
       "      <td>...</td>\n",
       "      <td>1.706512</td>\n",
       "      <td>-1.094362</td>\n",
       "      <td>0.494014</td>\n",
       "      <td>-1.849886</td>\n",
       "      <td>-0.614949</td>\n",
       "      <td>-0.222127</td>\n",
       "      <td>-0.854785</td>\n",
       "      <td>-0.739661</td>\n",
       "      <td>0.610760</td>\n",
       "      <td>0</td>\n",
       "    </tr>\n",
       "    <tr>\n",
       "      <th>41</th>\n",
       "      <td>2.309177</td>\n",
       "      <td>-0.460133</td>\n",
       "      <td>0.229852</td>\n",
       "      <td>0.013116</td>\n",
       "      <td>-2.474961</td>\n",
       "      <td>-0.547118</td>\n",
       "      <td>0.028087</td>\n",
       "      <td>-1.011659</td>\n",
       "      <td>-0.577100</td>\n",
       "      <td>-1.899722</td>\n",
       "      <td>...</td>\n",
       "      <td>1.199286</td>\n",
       "      <td>-0.030863</td>\n",
       "      <td>1.151186</td>\n",
       "      <td>-0.241638</td>\n",
       "      <td>-0.792307</td>\n",
       "      <td>0.474895</td>\n",
       "      <td>-1.023382</td>\n",
       "      <td>0.028454</td>\n",
       "      <td>-0.277014</td>\n",
       "      <td>0</td>\n",
       "    </tr>\n",
       "    <tr>\n",
       "      <th>76</th>\n",
       "      <td>2.665016</td>\n",
       "      <td>-0.325666</td>\n",
       "      <td>-0.404863</td>\n",
       "      <td>0.559592</td>\n",
       "      <td>-0.966630</td>\n",
       "      <td>-0.082378</td>\n",
       "      <td>0.397017</td>\n",
       "      <td>-1.812177</td>\n",
       "      <td>-0.892207</td>\n",
       "      <td>0.022709</td>\n",
       "      <td>...</td>\n",
       "      <td>0.933058</td>\n",
       "      <td>0.136641</td>\n",
       "      <td>-1.251167</td>\n",
       "      <td>0.156349</td>\n",
       "      <td>-0.414604</td>\n",
       "      <td>-0.364056</td>\n",
       "      <td>0.288708</td>\n",
       "      <td>-0.177144</td>\n",
       "      <td>1.183019</td>\n",
       "      <td>0</td>\n",
       "    </tr>\n",
       "    <tr>\n",
       "      <th>74</th>\n",
       "      <td>1.781842</td>\n",
       "      <td>0.065275</td>\n",
       "      <td>-1.793504</td>\n",
       "      <td>1.900296</td>\n",
       "      <td>0.042917</td>\n",
       "      <td>-0.937002</td>\n",
       "      <td>2.252363</td>\n",
       "      <td>-0.734497</td>\n",
       "      <td>1.124418</td>\n",
       "      <td>0.031540</td>\n",
       "      <td>...</td>\n",
       "      <td>1.334351</td>\n",
       "      <td>-1.948541</td>\n",
       "      <td>1.573954</td>\n",
       "      <td>0.748003</td>\n",
       "      <td>0.566267</td>\n",
       "      <td>-2.109345</td>\n",
       "      <td>1.610655</td>\n",
       "      <td>0.928373</td>\n",
       "      <td>-1.184949</td>\n",
       "      <td>0</td>\n",
       "    </tr>\n",
       "    <tr>\n",
       "      <th>123</th>\n",
       "      <td>1.677702</td>\n",
       "      <td>-0.327513</td>\n",
       "      <td>2.355360</td>\n",
       "      <td>-0.963758</td>\n",
       "      <td>-2.036691</td>\n",
       "      <td>0.924864</td>\n",
       "      <td>-0.975196</td>\n",
       "      <td>2.404253</td>\n",
       "      <td>1.114709</td>\n",
       "      <td>-0.041249</td>\n",
       "      <td>...</td>\n",
       "      <td>-1.379928</td>\n",
       "      <td>-1.040792</td>\n",
       "      <td>0.151511</td>\n",
       "      <td>1.478353</td>\n",
       "      <td>0.781514</td>\n",
       "      <td>-0.458212</td>\n",
       "      <td>1.390692</td>\n",
       "      <td>-0.129428</td>\n",
       "      <td>-1.276437</td>\n",
       "      <td>0</td>\n",
       "    </tr>\n",
       "  </tbody>\n",
       "</table>\n",
       "<p>300 rows × 26 columns</p>\n",
       "</div>"
      ],
      "text/plain": [
       "            1         2         3         4         5         6         7  \\\n",
       "87   1.747845 -0.333162  0.216835 -0.466235 -0.937435 -0.075794  0.596548   \n",
       "154  0.984103 -0.244275  0.215319  0.049030 -2.442785  0.281603 -1.378010   \n",
       "182  2.072664 -0.381203  1.246662 -1.303820 -1.766978  1.260860 -1.228947   \n",
       "67   1.693414 -0.510273  1.088665 -1.145955 -2.414188  1.173394 -0.890167   \n",
       "55   1.815164  2.162170  1.536615  1.023588  0.108153 -0.136554  0.825515   \n",
       "..        ...       ...       ...       ...       ...       ...       ...   \n",
       "280  2.478896  0.061802  0.402953  0.302194 -2.782984 -1.111142  1.594351   \n",
       "41   2.309177 -0.460133  0.229852  0.013116 -2.474961 -0.547118  0.028087   \n",
       "76   2.665016 -0.325666 -0.404863  0.559592 -0.966630 -0.082378  0.397017   \n",
       "74   1.781842  0.065275 -1.793504  1.900296  0.042917 -0.937002  2.252363   \n",
       "123  1.677702 -0.327513  2.355360 -0.963758 -2.036691  0.924864 -0.975196   \n",
       "\n",
       "            8         9        10  ...        17        18        19  \\\n",
       "87  -0.372813 -2.293972 -0.076439  ...  1.136980  0.934861 -0.812932   \n",
       "154 -0.654622 -0.967402 -0.047145  ... -0.869049  0.398358  0.681122   \n",
       "182  0.346562 -0.527951  0.208226  ... -1.102785 -0.939893  0.259029   \n",
       "67   0.230481  0.768482 -0.245739  ... -1.149028 -1.691784  0.745662   \n",
       "55   0.538671  4.277149 -1.248432  ... -1.861822  0.743639 -1.633052   \n",
       "..        ...       ...       ...  ...       ...       ...       ...   \n",
       "280 -0.893003  1.908376 -2.242434  ...  1.706512 -1.094362  0.494014   \n",
       "41  -1.011659 -0.577100 -1.899722  ...  1.199286 -0.030863  1.151186   \n",
       "76  -1.812177 -0.892207  0.022709  ...  0.933058  0.136641 -1.251167   \n",
       "74  -0.734497  1.124418  0.031540  ...  1.334351 -1.948541  1.573954   \n",
       "123  2.404253  1.114709 -0.041249  ... -1.379928 -1.040792  0.151511   \n",
       "\n",
       "           20        21        22        23        24        25  class  \n",
       "87  -0.252884 -0.305135 -0.063763  0.829716 -0.185170 -0.506153      0  \n",
       "154 -0.523527  0.587175 -0.185349 -0.333442 -0.212942 -0.219655      0  \n",
       "182  1.037350  0.546937 -0.654530  0.007191  0.289689  0.051833      0  \n",
       "67  -0.805417  0.965230 -0.995266 -0.081629  0.360819  0.720136      0  \n",
       "55   0.234543 -1.509550  1.261211 -2.262638  1.143696 -0.704671      0  \n",
       "..        ...       ...       ...       ...       ...       ...    ...  \n",
       "280 -1.849886 -0.614949 -0.222127 -0.854785 -0.739661  0.610760      0  \n",
       "41  -0.241638 -0.792307  0.474895 -1.023382  0.028454 -0.277014      0  \n",
       "76   0.156349 -0.414604 -0.364056  0.288708 -0.177144  1.183019      0  \n",
       "74   0.748003  0.566267 -2.109345  1.610655  0.928373 -1.184949      0  \n",
       "123  1.478353  0.781514 -0.458212  1.390692 -0.129428 -1.276437      0  \n",
       "\n",
       "[300 rows x 26 columns]"
      ]
     },
     "execution_count": 9,
     "metadata": {},
     "output_type": "execute_result"
    }
   ],
   "source": [
    "# df1"
   ]
  },
  {
   "cell_type": "code",
   "execution_count": 10,
   "id": "7e820027",
   "metadata": {
    "scrolled": false
   },
   "outputs": [
    {
     "data": {
      "text/html": [
       "<div>\n",
       "<style scoped>\n",
       "    .dataframe tbody tr th:only-of-type {\n",
       "        vertical-align: middle;\n",
       "    }\n",
       "\n",
       "    .dataframe tbody tr th {\n",
       "        vertical-align: top;\n",
       "    }\n",
       "\n",
       "    .dataframe thead th {\n",
       "        text-align: right;\n",
       "    }\n",
       "</style>\n",
       "<table border=\"1\" class=\"dataframe\">\n",
       "  <thead>\n",
       "    <tr style=\"text-align: right;\">\n",
       "      <th></th>\n",
       "      <th>1</th>\n",
       "      <th>2</th>\n",
       "      <th>3</th>\n",
       "      <th>4</th>\n",
       "      <th>5</th>\n",
       "      <th>6</th>\n",
       "      <th>7</th>\n",
       "      <th>8</th>\n",
       "      <th>9</th>\n",
       "      <th>10</th>\n",
       "      <th>...</th>\n",
       "      <th>17</th>\n",
       "      <th>18</th>\n",
       "      <th>19</th>\n",
       "      <th>20</th>\n",
       "      <th>21</th>\n",
       "      <th>22</th>\n",
       "      <th>23</th>\n",
       "      <th>24</th>\n",
       "      <th>25</th>\n",
       "      <th>class</th>\n",
       "    </tr>\n",
       "  </thead>\n",
       "  <tbody>\n",
       "    <tr>\n",
       "      <th>595</th>\n",
       "      <td>-1.709944</td>\n",
       "      <td>-1.152763</td>\n",
       "      <td>0.232500</td>\n",
       "      <td>0.096390</td>\n",
       "      <td>-0.736188</td>\n",
       "      <td>-0.484059</td>\n",
       "      <td>0.821538</td>\n",
       "      <td>-0.467094</td>\n",
       "      <td>1.040273</td>\n",
       "      <td>0.296623</td>\n",
       "      <td>...</td>\n",
       "      <td>-0.289543</td>\n",
       "      <td>0.771227</td>\n",
       "      <td>0.424428</td>\n",
       "      <td>0.342423</td>\n",
       "      <td>-0.005113</td>\n",
       "      <td>-0.144907</td>\n",
       "      <td>-0.174283</td>\n",
       "      <td>-0.114781</td>\n",
       "      <td>1.079039</td>\n",
       "      <td>1</td>\n",
       "    </tr>\n",
       "    <tr>\n",
       "      <th>328</th>\n",
       "      <td>-1.457676</td>\n",
       "      <td>-1.072053</td>\n",
       "      <td>0.025710</td>\n",
       "      <td>0.754080</td>\n",
       "      <td>-0.671669</td>\n",
       "      <td>-0.900273</td>\n",
       "      <td>-1.335695</td>\n",
       "      <td>0.061437</td>\n",
       "      <td>0.810226</td>\n",
       "      <td>0.051954</td>\n",
       "      <td>...</td>\n",
       "      <td>0.293854</td>\n",
       "      <td>-1.090857</td>\n",
       "      <td>-0.245443</td>\n",
       "      <td>0.733156</td>\n",
       "      <td>-0.566900</td>\n",
       "      <td>-0.434369</td>\n",
       "      <td>-0.525803</td>\n",
       "      <td>-0.485109</td>\n",
       "      <td>-0.932323</td>\n",
       "      <td>1</td>\n",
       "    </tr>\n",
       "    <tr>\n",
       "      <th>384</th>\n",
       "      <td>-1.549766</td>\n",
       "      <td>-0.894609</td>\n",
       "      <td>0.015310</td>\n",
       "      <td>0.324806</td>\n",
       "      <td>-0.642533</td>\n",
       "      <td>1.155069</td>\n",
       "      <td>0.831014</td>\n",
       "      <td>-0.566168</td>\n",
       "      <td>0.399619</td>\n",
       "      <td>-1.354764</td>\n",
       "      <td>...</td>\n",
       "      <td>-0.206804</td>\n",
       "      <td>1.443617</td>\n",
       "      <td>-0.032147</td>\n",
       "      <td>-0.517905</td>\n",
       "      <td>0.493830</td>\n",
       "      <td>-1.047127</td>\n",
       "      <td>1.299275</td>\n",
       "      <td>-0.674473</td>\n",
       "      <td>0.089514</td>\n",
       "      <td>1</td>\n",
       "    </tr>\n",
       "    <tr>\n",
       "      <th>553</th>\n",
       "      <td>-1.296242</td>\n",
       "      <td>-1.522510</td>\n",
       "      <td>0.431047</td>\n",
       "      <td>0.334726</td>\n",
       "      <td>-0.083345</td>\n",
       "      <td>-1.237015</td>\n",
       "      <td>-1.602865</td>\n",
       "      <td>0.502355</td>\n",
       "      <td>1.646342</td>\n",
       "      <td>-0.500148</td>\n",
       "      <td>...</td>\n",
       "      <td>0.250050</td>\n",
       "      <td>-1.178941</td>\n",
       "      <td>-0.436308</td>\n",
       "      <td>1.148235</td>\n",
       "      <td>-0.103818</td>\n",
       "      <td>0.080901</td>\n",
       "      <td>0.056019</td>\n",
       "      <td>-1.060037</td>\n",
       "      <td>-0.692340</td>\n",
       "      <td>1</td>\n",
       "    </tr>\n",
       "    <tr>\n",
       "      <th>443</th>\n",
       "      <td>-1.435168</td>\n",
       "      <td>-1.007427</td>\n",
       "      <td>0.081758</td>\n",
       "      <td>0.448234</td>\n",
       "      <td>-0.243468</td>\n",
       "      <td>-1.431007</td>\n",
       "      <td>-1.552629</td>\n",
       "      <td>0.370524</td>\n",
       "      <td>1.016240</td>\n",
       "      <td>-0.005771</td>\n",
       "      <td>...</td>\n",
       "      <td>0.138051</td>\n",
       "      <td>-1.233064</td>\n",
       "      <td>-0.720831</td>\n",
       "      <td>0.077757</td>\n",
       "      <td>-0.835039</td>\n",
       "      <td>-0.283704</td>\n",
       "      <td>-0.430335</td>\n",
       "      <td>-0.630142</td>\n",
       "      <td>-1.058167</td>\n",
       "      <td>1</td>\n",
       "    </tr>\n",
       "    <tr>\n",
       "      <th>...</th>\n",
       "      <td>...</td>\n",
       "      <td>...</td>\n",
       "      <td>...</td>\n",
       "      <td>...</td>\n",
       "      <td>...</td>\n",
       "      <td>...</td>\n",
       "      <td>...</td>\n",
       "      <td>...</td>\n",
       "      <td>...</td>\n",
       "      <td>...</td>\n",
       "      <td>...</td>\n",
       "      <td>...</td>\n",
       "      <td>...</td>\n",
       "      <td>...</td>\n",
       "      <td>...</td>\n",
       "      <td>...</td>\n",
       "      <td>...</td>\n",
       "      <td>...</td>\n",
       "      <td>...</td>\n",
       "      <td>...</td>\n",
       "      <td>...</td>\n",
       "    </tr>\n",
       "    <tr>\n",
       "      <th>511</th>\n",
       "      <td>-1.562947</td>\n",
       "      <td>-1.140912</td>\n",
       "      <td>0.208032</td>\n",
       "      <td>0.386014</td>\n",
       "      <td>-0.511296</td>\n",
       "      <td>0.688505</td>\n",
       "      <td>1.355813</td>\n",
       "      <td>-0.454386</td>\n",
       "      <td>0.517823</td>\n",
       "      <td>-0.677528</td>\n",
       "      <td>...</td>\n",
       "      <td>0.238853</td>\n",
       "      <td>0.952314</td>\n",
       "      <td>0.375689</td>\n",
       "      <td>-0.396172</td>\n",
       "      <td>0.596606</td>\n",
       "      <td>-0.836538</td>\n",
       "      <td>0.649824</td>\n",
       "      <td>-0.517365</td>\n",
       "      <td>0.661158</td>\n",
       "      <td>1</td>\n",
       "    </tr>\n",
       "    <tr>\n",
       "      <th>353</th>\n",
       "      <td>-1.583681</td>\n",
       "      <td>-0.827709</td>\n",
       "      <td>0.050607</td>\n",
       "      <td>1.035632</td>\n",
       "      <td>-1.352972</td>\n",
       "      <td>0.162953</td>\n",
       "      <td>0.336354</td>\n",
       "      <td>-0.544300</td>\n",
       "      <td>0.161798</td>\n",
       "      <td>0.366745</td>\n",
       "      <td>...</td>\n",
       "      <td>0.453158</td>\n",
       "      <td>0.450275</td>\n",
       "      <td>-0.286872</td>\n",
       "      <td>-0.412513</td>\n",
       "      <td>0.499276</td>\n",
       "      <td>0.007984</td>\n",
       "      <td>0.717352</td>\n",
       "      <td>0.229280</td>\n",
       "      <td>0.398875</td>\n",
       "      <td>1</td>\n",
       "    </tr>\n",
       "    <tr>\n",
       "      <th>332</th>\n",
       "      <td>-1.076473</td>\n",
       "      <td>-0.052674</td>\n",
       "      <td>-0.705642</td>\n",
       "      <td>0.529117</td>\n",
       "      <td>-0.904360</td>\n",
       "      <td>0.983607</td>\n",
       "      <td>-0.040204</td>\n",
       "      <td>-0.539643</td>\n",
       "      <td>-1.523779</td>\n",
       "      <td>-0.594130</td>\n",
       "      <td>...</td>\n",
       "      <td>-0.776648</td>\n",
       "      <td>-0.241497</td>\n",
       "      <td>-0.605353</td>\n",
       "      <td>-0.156378</td>\n",
       "      <td>0.048930</td>\n",
       "      <td>-0.693048</td>\n",
       "      <td>-0.035370</td>\n",
       "      <td>-0.083618</td>\n",
       "      <td>-0.226684</td>\n",
       "      <td>1</td>\n",
       "    </tr>\n",
       "    <tr>\n",
       "      <th>400</th>\n",
       "      <td>-1.637417</td>\n",
       "      <td>-1.487078</td>\n",
       "      <td>0.445296</td>\n",
       "      <td>0.545887</td>\n",
       "      <td>0.012030</td>\n",
       "      <td>-0.743437</td>\n",
       "      <td>-0.157589</td>\n",
       "      <td>-0.100941</td>\n",
       "      <td>1.729583</td>\n",
       "      <td>-0.006598</td>\n",
       "      <td>...</td>\n",
       "      <td>0.335000</td>\n",
       "      <td>0.613836</td>\n",
       "      <td>0.363545</td>\n",
       "      <td>0.390321</td>\n",
       "      <td>-0.864346</td>\n",
       "      <td>0.133719</td>\n",
       "      <td>-0.258192</td>\n",
       "      <td>-0.642357</td>\n",
       "      <td>0.041738</td>\n",
       "      <td>1</td>\n",
       "    </tr>\n",
       "    <tr>\n",
       "      <th>587</th>\n",
       "      <td>-1.500923</td>\n",
       "      <td>-0.688957</td>\n",
       "      <td>-0.152097</td>\n",
       "      <td>0.907495</td>\n",
       "      <td>-1.434553</td>\n",
       "      <td>0.643546</td>\n",
       "      <td>0.362197</td>\n",
       "      <td>-0.657624</td>\n",
       "      <td>-0.464330</td>\n",
       "      <td>0.151422</td>\n",
       "      <td>...</td>\n",
       "      <td>0.036882</td>\n",
       "      <td>0.672582</td>\n",
       "      <td>-0.354571</td>\n",
       "      <td>-0.636387</td>\n",
       "      <td>0.052115</td>\n",
       "      <td>0.483281</td>\n",
       "      <td>0.906851</td>\n",
       "      <td>0.012238</td>\n",
       "      <td>0.625758</td>\n",
       "      <td>1</td>\n",
       "    </tr>\n",
       "  </tbody>\n",
       "</table>\n",
       "<p>300 rows × 26 columns</p>\n",
       "</div>"
      ],
      "text/plain": [
       "            1         2         3         4         5         6         7  \\\n",
       "595 -1.709944 -1.152763  0.232500  0.096390 -0.736188 -0.484059  0.821538   \n",
       "328 -1.457676 -1.072053  0.025710  0.754080 -0.671669 -0.900273 -1.335695   \n",
       "384 -1.549766 -0.894609  0.015310  0.324806 -0.642533  1.155069  0.831014   \n",
       "553 -1.296242 -1.522510  0.431047  0.334726 -0.083345 -1.237015 -1.602865   \n",
       "443 -1.435168 -1.007427  0.081758  0.448234 -0.243468 -1.431007 -1.552629   \n",
       "..        ...       ...       ...       ...       ...       ...       ...   \n",
       "511 -1.562947 -1.140912  0.208032  0.386014 -0.511296  0.688505  1.355813   \n",
       "353 -1.583681 -0.827709  0.050607  1.035632 -1.352972  0.162953  0.336354   \n",
       "332 -1.076473 -0.052674 -0.705642  0.529117 -0.904360  0.983607 -0.040204   \n",
       "400 -1.637417 -1.487078  0.445296  0.545887  0.012030 -0.743437 -0.157589   \n",
       "587 -1.500923 -0.688957 -0.152097  0.907495 -1.434553  0.643546  0.362197   \n",
       "\n",
       "            8         9        10  ...        17        18        19  \\\n",
       "595 -0.467094  1.040273  0.296623  ... -0.289543  0.771227  0.424428   \n",
       "328  0.061437  0.810226  0.051954  ...  0.293854 -1.090857 -0.245443   \n",
       "384 -0.566168  0.399619 -1.354764  ... -0.206804  1.443617 -0.032147   \n",
       "553  0.502355  1.646342 -0.500148  ...  0.250050 -1.178941 -0.436308   \n",
       "443  0.370524  1.016240 -0.005771  ...  0.138051 -1.233064 -0.720831   \n",
       "..        ...       ...       ...  ...       ...       ...       ...   \n",
       "511 -0.454386  0.517823 -0.677528  ...  0.238853  0.952314  0.375689   \n",
       "353 -0.544300  0.161798  0.366745  ...  0.453158  0.450275 -0.286872   \n",
       "332 -0.539643 -1.523779 -0.594130  ... -0.776648 -0.241497 -0.605353   \n",
       "400 -0.100941  1.729583 -0.006598  ...  0.335000  0.613836  0.363545   \n",
       "587 -0.657624 -0.464330  0.151422  ...  0.036882  0.672582 -0.354571   \n",
       "\n",
       "           20        21        22        23        24        25  class  \n",
       "595  0.342423 -0.005113 -0.144907 -0.174283 -0.114781  1.079039      1  \n",
       "328  0.733156 -0.566900 -0.434369 -0.525803 -0.485109 -0.932323      1  \n",
       "384 -0.517905  0.493830 -1.047127  1.299275 -0.674473  0.089514      1  \n",
       "553  1.148235 -0.103818  0.080901  0.056019 -1.060037 -0.692340      1  \n",
       "443  0.077757 -0.835039 -0.283704 -0.430335 -0.630142 -1.058167      1  \n",
       "..        ...       ...       ...       ...       ...       ...    ...  \n",
       "511 -0.396172  0.596606 -0.836538  0.649824 -0.517365  0.661158      1  \n",
       "353 -0.412513  0.499276  0.007984  0.717352  0.229280  0.398875      1  \n",
       "332 -0.156378  0.048930 -0.693048 -0.035370 -0.083618 -0.226684      1  \n",
       "400  0.390321 -0.864346  0.133719 -0.258192 -0.642357  0.041738      1  \n",
       "587 -0.636387  0.052115  0.483281  0.906851  0.012238  0.625758      1  \n",
       "\n",
       "[300 rows x 26 columns]"
      ]
     },
     "execution_count": 10,
     "metadata": {},
     "output_type": "execute_result"
    }
   ],
   "source": [
    "# df2"
   ]
  },
  {
   "cell_type": "code",
   "execution_count": 11,
   "id": "616ef3af",
   "metadata": {},
   "outputs": [],
   "source": [
    "train1, test1 = np.split(df1.sample(frac=1,random_state =101), [int(.8 * len(df1))])\n",
    "train2, test2 = np.split(df2.sample(frac=1,random_state =101), [int(.8 * len(df2))])"
   ]
  },
  {
   "cell_type": "code",
   "execution_count": 12,
   "id": "9b31a3e6",
   "metadata": {},
   "outputs": [],
   "source": [
    "train = pd.concat([train1,train2])\n",
    "test = pd.concat([test1,test2])"
   ]
  },
  {
   "cell_type": "code",
   "execution_count": 15,
   "id": "47088977",
   "metadata": {},
   "outputs": [],
   "source": [
    "train_features = np.array(train.iloc[:, :25])\n",
    "train_labels = np.array(train.iloc[:,25:])\n",
    "\n",
    "test_features = np.array(test.iloc[:, :25])\n",
    "test_labels = np.array(test.iloc[:,25:])"
   ]
  },
  {
   "cell_type": "code",
   "execution_count": 16,
   "id": "76cc51bd",
   "metadata": {},
   "outputs": [],
   "source": [
    "scaler = StandardScaler()\n",
    "scaled_train_features = scaler.fit_transform(train_features)\n",
    "scaled_test_features = scaler.transform(test_features)"
   ]
  },
  {
   "cell_type": "code",
   "execution_count": 17,
   "id": "dae761d6",
   "metadata": {},
   "outputs": [
    {
     "data": {
      "text/plain": [
       "GridSearchCV(cv=StratifiedKFold(n_splits=6, random_state=None, shuffle=False),\n",
       "             estimator=SVC(),\n",
       "             param_grid={'C': [0.001, 0.01, 0.1, 0.5, 0.8, 1, 5, 10, 50],\n",
       "                         'degree': array([1, 2, 3, 4, 5, 6, 7, 8, 9]),\n",
       "                         'gamma': ['scale', 'auto', 0.001, 0.01, 0.1, 0.3, 0.5,\n",
       "                                   0.7, 0.9, 1],\n",
       "                         'kernel': ['rbf', 'poly', 'sigmoid', 'linear']})"
      ]
     },
     "execution_count": 17,
     "metadata": {},
     "output_type": "execute_result"
    }
   ],
   "source": [
    "cross_val = StratifiedKFold(n_splits = 6)\n",
    "svc = SVC()\n",
    "param_grid = {'C':[0.001,0.01,0.1,0.5,0.8,1,5,10,50],'kernel':['rbf','poly','sigmoid','linear'],'gamma': ['scale','auto',0.001,0.01, 0.1,0.3,0.5,0.7,0.9,1], 'degree':np.arange(1,10)}\n",
    "grid = GridSearchCV(svc,param_grid,cv =cross_val)\n",
    "grid.fit(scaled_train_features,train_labels.ravel())"
   ]
  },
  {
   "cell_type": "code",
   "execution_count": 18,
   "id": "76930472",
   "metadata": {},
   "outputs": [
    {
     "data": {
      "text/plain": [
       "{'C': 0.01, 'degree': 1, 'gamma': 0.9, 'kernel': 'poly'}"
      ]
     },
     "execution_count": 18,
     "metadata": {},
     "output_type": "execute_result"
    }
   ],
   "source": [
    "grid.best_params_"
   ]
  },
  {
   "cell_type": "code",
   "execution_count": 19,
   "id": "8121370d",
   "metadata": {},
   "outputs": [],
   "source": [
    "best_score = grid.best_score_"
   ]
  },
  {
   "cell_type": "code",
   "execution_count": 20,
   "id": "317cfc05",
   "metadata": {},
   "outputs": [
    {
     "data": {
      "text/plain": [
       "0.9979166666666667"
      ]
     },
     "execution_count": 20,
     "metadata": {},
     "output_type": "execute_result"
    }
   ],
   "source": [
    "best_score"
   ]
  },
  {
   "cell_type": "code",
   "execution_count": 21,
   "id": "c1726d06",
   "metadata": {},
   "outputs": [],
   "source": [
    "from sklearn.metrics import confusion_matrix,classification_report"
   ]
  },
  {
   "cell_type": "code",
   "execution_count": 22,
   "id": "3c67871c",
   "metadata": {},
   "outputs": [],
   "source": [
    "grid_pred = grid.predict(scaled_test_features)"
   ]
  },
  {
   "cell_type": "code",
   "execution_count": 27,
   "id": "6e123d50",
   "metadata": {},
   "outputs": [
    {
     "data": {
      "text/plain": [
       "1.0"
      ]
     },
     "execution_count": 27,
     "metadata": {},
     "output_type": "execute_result"
    }
   ],
   "source": [
    "grid.score(test_features,test_labels.ravel())"
   ]
  },
  {
   "cell_type": "code",
   "execution_count": 23,
   "id": "a3326aa4",
   "metadata": {},
   "outputs": [
    {
     "data": {
      "text/plain": [
       "array([[60,  0],\n",
       "       [ 0, 60]], dtype=int64)"
      ]
     },
     "execution_count": 23,
     "metadata": {},
     "output_type": "execute_result"
    }
   ],
   "source": [
    "confusion_matrix(test_labels,grid_pred)"
   ]
  },
  {
   "cell_type": "code",
   "execution_count": 24,
   "id": "143be8f8",
   "metadata": {
    "scrolled": true
   },
   "outputs": [
    {
     "name": "stdout",
     "output_type": "stream",
     "text": [
      "              precision    recall  f1-score   support\n",
      "\n",
      "           0       1.00      1.00      1.00        60\n",
      "           1       1.00      1.00      1.00        60\n",
      "\n",
      "    accuracy                           1.00       120\n",
      "   macro avg       1.00      1.00      1.00       120\n",
      "weighted avg       1.00      1.00      1.00       120\n",
      "\n"
     ]
    }
   ],
   "source": [
    "print(classification_report(test_labels,grid_pred))"
   ]
  },
  {
   "cell_type": "markdown",
   "id": "aa34218a",
   "metadata": {},
   "source": [
    "## For class labels 5 and 9"
   ]
  },
  {
   "cell_type": "code",
   "execution_count": 28,
   "id": "d9fecb07",
   "metadata": {},
   "outputs": [],
   "source": [
    "# for class label '5'\n",
    "features1 = df.iloc[1500:1800,:25]\n",
    "labels1 = df.iloc[1500:1800,25:]\n",
    "df1= pd.concat([features1,labels1],axis=1)\n",
    "df1 = df1.reindex(np.random.permutation(df1.index))\n",
    "\n",
    "# for class label '9'\n",
    "features2 = df.iloc[2700:3000,:25]\n",
    "labels2 = df.iloc[2700:3000,25:]\n",
    "df2= pd.concat([features2,labels2],axis=1)\n",
    "df2 = df2.reindex(np.random.permutation(df2.index))"
   ]
  },
  {
   "cell_type": "code",
   "execution_count": 31,
   "id": "554eabd9",
   "metadata": {},
   "outputs": [],
   "source": [
    "train1, test1 = np.split(df1.sample(frac=1,random_state =101), [int(.8 * len(df1))])\n",
    "train2, test2 = np.split(df2.sample(frac=1,random_state =101), [int(.8 * len(df2))])"
   ]
  },
  {
   "cell_type": "code",
   "execution_count": 32,
   "id": "adc1e32d",
   "metadata": {},
   "outputs": [],
   "source": [
    "train = pd.concat([train1,train2])\n",
    "test = pd.concat([test1,test2])"
   ]
  },
  {
   "cell_type": "code",
   "execution_count": 35,
   "id": "aa9bfe70",
   "metadata": {},
   "outputs": [],
   "source": [
    "train_features = np.array(train.iloc[:, :25])\n",
    "train_labels = np.array(train.iloc[:,25:])\n",
    "\n",
    "test_features = np.array(test.iloc[:, :25])\n",
    "test_labels = np.array(test.iloc[:,25:])"
   ]
  },
  {
   "cell_type": "code",
   "execution_count": 36,
   "id": "e1eca841",
   "metadata": {},
   "outputs": [],
   "source": [
    "scaler = StandardScaler()\n",
    "scaled_train_features = scaler.fit_transform(train_features)\n",
    "scaled_test_features = scaler.transform(test_features)"
   ]
  },
  {
   "cell_type": "code",
   "execution_count": 39,
   "id": "96c9d114",
   "metadata": {},
   "outputs": [
    {
     "name": "stdout",
     "output_type": "stream",
     "text": [
      "Validation accuracy = 0.9770833333333332, Test accuracy = 0.9583333333333334\n"
     ]
    }
   ],
   "source": [
    "# Previous optimized hyperparameters for class 1 and 2\n",
    "cross_val = StratifiedKFold(n_splits = 6)\n",
    "svc = SVC()\n",
    "param_grid = {'C':[0.01],'kernel':['poly'],'gamma': [0.9], 'degree':[1]}\n",
    "grid = GridSearchCV(svc,param_grid,cv =cross_val)\n",
    "grid.fit(scaled_train_features,train_labels.ravel())\n",
    "grid_pred = grid.predict(scaled_test_features)\n",
    "acc= grid.score(scaled_test_features,np.array(test_labels).reshape(-1,1))\n",
    "print(f'Validation accuracy = {grid.best_score_}, Test accuracy = {acc}')"
   ]
  },
  {
   "cell_type": "code",
   "execution_count": 40,
   "id": "9eb8afed",
   "metadata": {},
   "outputs": [
    {
     "name": "stdout",
     "output_type": "stream",
     "text": [
      "Best Parameters = {'C': 10, 'degree': 1, 'gamma': 0.01, 'kernel': 'rbf'}, Best score = 0.9937499999999999\n"
     ]
    }
   ],
   "source": [
    "cross_val = StratifiedKFold(n_splits = 6)\n",
    "svc = SVC()\n",
    "param_grid = {'C':[0.001,0.01,0.1,0.5,0.8,1,5,10,50,100,500],'kernel':['rbf','poly','sigmoid','linear'],'gamma': ['scale','auto',0.001,0.01, 0.1,0.3,0.5,0.7,0.9,1], 'degree':np.arange(1,10)}\n",
    "grid = GridSearchCV(svc,param_grid,cv =cross_val)\n",
    "grid.fit(scaled_train_features,train_labels.ravel())\n",
    "grid_pred = grid.predict(scaled_test_features)\n",
    "print(f'Best Parameters = {grid.best_params_}, Best score = {grid.best_score_}')"
   ]
  },
  {
   "cell_type": "code",
   "execution_count": 45,
   "id": "f612d108",
   "metadata": {
    "scrolled": true
   },
   "outputs": [
    {
     "name": "stdout",
     "output_type": "stream",
     "text": [
      "Validation accuracy = 0.9937499999999999, Test accuracy = 0.9666666666666667\n",
      "Confusion Matrix\n",
      "[[60  0]\n",
      " [ 4 56]]\n",
      "Classification Report\n",
      "              precision    recall  f1-score   support\n",
      "\n",
      "           5       0.94      1.00      0.97        60\n",
      "           9       1.00      0.93      0.97        60\n",
      "\n",
      "    accuracy                           0.97       120\n",
      "   macro avg       0.97      0.97      0.97       120\n",
      "weighted avg       0.97      0.97      0.97       120\n",
      "\n"
     ]
    }
   ],
   "source": [
    "cross_val = StratifiedKFold(n_splits = 6)\n",
    "svc = SVC()\n",
    "param_grid = {'C':[10],'kernel':['rbf'],'gamma': [0.01], 'degree':[1]}\n",
    "grid = GridSearchCV(svc,param_grid,cv =cross_val)\n",
    "grid.fit(scaled_train_features,train_labels.ravel())\n",
    "grid_pred = grid.predict(scaled_test_features)\n",
    "acc= grid.score(scaled_test_features,np.array(test_labels).reshape(-1,1))\n",
    "print(f'Validation accuracy = {grid.best_score_}, Test accuracy = {acc}')\n",
    "print('Confusion Matrix')\n",
    "print(confusion_matrix(test_labels,grid_pred))\n",
    "print('Classification Report')\n",
    "print(classification_report(test_labels,grid_pred))"
   ]
  },
  {
   "cell_type": "markdown",
   "id": "c0b3795c",
   "metadata": {},
   "source": [
    "## For class labels 3 and 7"
   ]
  },
  {
   "cell_type": "code",
   "execution_count": 46,
   "id": "2c7f92cd",
   "metadata": {},
   "outputs": [],
   "source": [
    "# for class label '3'\n",
    "features1 = df.iloc[900:1200,:25]\n",
    "labels1 = df.iloc[900:1200,25:]\n",
    "df1= pd.concat([features1,labels1],axis=1)\n",
    "df1 = df1.reindex(np.random.permutation(df1.index))\n",
    "\n",
    "# for class label '7'\n",
    "features2 = df.iloc[2100:2400,:25]\n",
    "labels2 = df.iloc[2100:2400,25:]\n",
    "df2= pd.concat([features2,labels2],axis=1)\n",
    "df2 = df2.reindex(np.random.permutation(df2.index))"
   ]
  },
  {
   "cell_type": "code",
   "execution_count": 47,
   "id": "65d83c85",
   "metadata": {},
   "outputs": [],
   "source": [
    "train1, test1 = np.split(df1.sample(frac=1,random_state =101), [int(.8 * len(df1))])\n",
    "train2, test2 = np.split(df2.sample(frac=1,random_state =101), [int(.8 * len(df2))])"
   ]
  },
  {
   "cell_type": "code",
   "execution_count": 48,
   "id": "69ed791e",
   "metadata": {},
   "outputs": [],
   "source": [
    "train = pd.concat([train1,train2])\n",
    "test = pd.concat([test1,test2])"
   ]
  },
  {
   "cell_type": "code",
   "execution_count": 49,
   "id": "22f3a74e",
   "metadata": {},
   "outputs": [],
   "source": [
    "train_features = np.array(train.iloc[:, :25])\n",
    "train_labels = np.array(train.iloc[:,25:])\n",
    "\n",
    "test_features = np.array(test.iloc[:, :25])\n",
    "test_labels = np.array(test.iloc[:,25:])"
   ]
  },
  {
   "cell_type": "code",
   "execution_count": 50,
   "id": "343cedde",
   "metadata": {},
   "outputs": [],
   "source": [
    "scaler = StandardScaler()\n",
    "scaled_train_features = scaler.fit_transform(train_features)\n",
    "scaled_test_features = scaler.transform(test_features)"
   ]
  },
  {
   "cell_type": "code",
   "execution_count": 51,
   "id": "5403e55e",
   "metadata": {},
   "outputs": [
    {
     "name": "stdout",
     "output_type": "stream",
     "text": [
      "Validation accuracy = 0.9812499999999998, Test accuracy = 0.975\n",
      "Confusion Matrix\n",
      "[[58  2]\n",
      " [ 1 59]]\n",
      "Classification Report\n",
      "              precision    recall  f1-score   support\n",
      "\n",
      "           3       0.98      0.97      0.97        60\n",
      "           7       0.97      0.98      0.98        60\n",
      "\n",
      "    accuracy                           0.97       120\n",
      "   macro avg       0.98      0.97      0.97       120\n",
      "weighted avg       0.98      0.97      0.97       120\n",
      "\n"
     ]
    }
   ],
   "source": [
    "cross_val = StratifiedKFold(n_splits = 6)\n",
    "svc = SVC()\n",
    "param_grid = {'C':[10],'kernel':['rbf'],'gamma': [0.01], 'degree':[1]}\n",
    "grid = GridSearchCV(svc,param_grid,cv =cross_val)\n",
    "grid.fit(scaled_train_features,train_labels.ravel())\n",
    "grid_pred = grid.predict(scaled_test_features)\n",
    "acc= grid.score(scaled_test_features,np.array(test_labels).reshape(-1,1))\n",
    "print(f'Validation accuracy = {grid.best_score_}, Test accuracy = {acc}')\n",
    "print('Confusion Matrix')\n",
    "print(confusion_matrix(test_labels,grid_pred))\n",
    "print('Classification Report')\n",
    "print(classification_report(test_labels,grid_pred))"
   ]
  },
  {
   "cell_type": "code",
   "execution_count": 52,
   "id": "0e16d369",
   "metadata": {},
   "outputs": [
    {
     "name": "stdout",
     "output_type": "stream",
     "text": [
      "Best Parameters = {'C': 0.1, 'degree': 4, 'gamma': 0.1, 'kernel': 'poly'}, Best score = 0.9854166666666667\n"
     ]
    }
   ],
   "source": [
    "cross_val = StratifiedKFold(n_splits = 6)\n",
    "svc = SVC()\n",
    "param_grid = {'C':[0.001,0.01,0.1,0.5,0.8,1,5,10,50,100,500],'kernel':['rbf','poly','sigmoid','linear'],'gamma': ['scale','auto',0.001,0.01, 0.1,0.3,0.5,0.7,0.9,1], 'degree':np.arange(1,10)}\n",
    "grid = GridSearchCV(svc,param_grid,cv =cross_val)\n",
    "grid.fit(scaled_train_features,train_labels.ravel())\n",
    "grid_pred = grid.predict(scaled_test_features)\n",
    "print(f'Best Parameters = {grid.best_params_}, Best score = {grid.best_score_}')"
   ]
  },
  {
   "cell_type": "code",
   "execution_count": 53,
   "id": "9b76b93f",
   "metadata": {},
   "outputs": [
    {
     "name": "stdout",
     "output_type": "stream",
     "text": [
      "Validation accuracy = 0.9854166666666667, Test accuracy = 0.9916666666666667\n",
      "Confusion Matrix\n",
      "[[60  0]\n",
      " [ 1 59]]\n",
      "Classification Report\n",
      "              precision    recall  f1-score   support\n",
      "\n",
      "           3       0.98      1.00      0.99        60\n",
      "           7       1.00      0.98      0.99        60\n",
      "\n",
      "    accuracy                           0.99       120\n",
      "   macro avg       0.99      0.99      0.99       120\n",
      "weighted avg       0.99      0.99      0.99       120\n",
      "\n"
     ]
    }
   ],
   "source": [
    "cross_val = StratifiedKFold(n_splits = 6)\n",
    "svc = SVC()\n",
    "param_grid = {'C':[0.1],'kernel':['poly'],'gamma': [0.1], 'degree':[4]}\n",
    "grid = GridSearchCV(svc,param_grid,cv =cross_val)\n",
    "grid.fit(scaled_train_features,train_labels.ravel())\n",
    "grid_pred = grid.predict(scaled_test_features)\n",
    "acc= grid.score(scaled_test_features,np.array(test_labels).reshape(-1,1))\n",
    "print(f'Validation accuracy = {grid.best_score_}, Test accuracy = {acc}')\n",
    "print('Confusion Matrix')\n",
    "print(confusion_matrix(test_labels,grid_pred))\n",
    "print('Classification Report')\n",
    "print(classification_report(test_labels,grid_pred))"
   ]
  },
  {
   "cell_type": "markdown",
   "id": "12d07417",
   "metadata": {},
   "source": [
    "## 2 features and 2 labels"
   ]
  },
  {
   "cell_type": "code",
   "execution_count": 63,
   "id": "41911751",
   "metadata": {},
   "outputs": [],
   "source": [
    "# for class label '0'\n",
    "features1 = df.iloc[0:300,:2]\n",
    "labels1 = df.iloc[0:300,25:]\n",
    "df1= pd.concat([features1,labels1],axis=1)\n",
    "df1 = df1.reindex(np.random.permutation(df1.index))\n",
    "\n",
    "# for class label '1'\n",
    "features2 = df.iloc[300:600,:2]\n",
    "labels2 = df.iloc[300:600,25:]\n",
    "df2= pd.concat([features2,labels2],axis=1)\n",
    "df2 = df2.reindex(np.random.permutation(df2.index))"
   ]
  },
  {
   "cell_type": "code",
   "execution_count": 64,
   "id": "b552a431",
   "metadata": {},
   "outputs": [
    {
     "data": {
      "text/html": [
       "<div>\n",
       "<style scoped>\n",
       "    .dataframe tbody tr th:only-of-type {\n",
       "        vertical-align: middle;\n",
       "    }\n",
       "\n",
       "    .dataframe tbody tr th {\n",
       "        vertical-align: top;\n",
       "    }\n",
       "\n",
       "    .dataframe thead th {\n",
       "        text-align: right;\n",
       "    }\n",
       "</style>\n",
       "<table border=\"1\" class=\"dataframe\">\n",
       "  <thead>\n",
       "    <tr style=\"text-align: right;\">\n",
       "      <th></th>\n",
       "      <th>1</th>\n",
       "      <th>2</th>\n",
       "      <th>class</th>\n",
       "    </tr>\n",
       "  </thead>\n",
       "  <tbody>\n",
       "    <tr>\n",
       "      <th>296</th>\n",
       "      <td>1.455873</td>\n",
       "      <td>0.134707</td>\n",
       "      <td>0</td>\n",
       "    </tr>\n",
       "    <tr>\n",
       "      <th>128</th>\n",
       "      <td>2.280504</td>\n",
       "      <td>-0.005938</td>\n",
       "      <td>0</td>\n",
       "    </tr>\n",
       "    <tr>\n",
       "      <th>92</th>\n",
       "      <td>1.712030</td>\n",
       "      <td>-0.076787</td>\n",
       "      <td>0</td>\n",
       "    </tr>\n",
       "    <tr>\n",
       "      <th>245</th>\n",
       "      <td>2.045876</td>\n",
       "      <td>0.363635</td>\n",
       "      <td>0</td>\n",
       "    </tr>\n",
       "    <tr>\n",
       "      <th>104</th>\n",
       "      <td>1.362481</td>\n",
       "      <td>0.109544</td>\n",
       "      <td>0</td>\n",
       "    </tr>\n",
       "    <tr>\n",
       "      <th>...</th>\n",
       "      <td>...</td>\n",
       "      <td>...</td>\n",
       "      <td>...</td>\n",
       "    </tr>\n",
       "    <tr>\n",
       "      <th>63</th>\n",
       "      <td>3.068619</td>\n",
       "      <td>-0.726251</td>\n",
       "      <td>0</td>\n",
       "    </tr>\n",
       "    <tr>\n",
       "      <th>121</th>\n",
       "      <td>2.744063</td>\n",
       "      <td>-1.021786</td>\n",
       "      <td>0</td>\n",
       "    </tr>\n",
       "    <tr>\n",
       "      <th>135</th>\n",
       "      <td>1.443360</td>\n",
       "      <td>-0.737314</td>\n",
       "      <td>0</td>\n",
       "    </tr>\n",
       "    <tr>\n",
       "      <th>270</th>\n",
       "      <td>1.242338</td>\n",
       "      <td>-0.324372</td>\n",
       "      <td>0</td>\n",
       "    </tr>\n",
       "    <tr>\n",
       "      <th>204</th>\n",
       "      <td>0.571230</td>\n",
       "      <td>-0.825884</td>\n",
       "      <td>0</td>\n",
       "    </tr>\n",
       "  </tbody>\n",
       "</table>\n",
       "<p>300 rows × 3 columns</p>\n",
       "</div>"
      ],
      "text/plain": [
       "            1         2  class\n",
       "296  1.455873  0.134707      0\n",
       "128  2.280504 -0.005938      0\n",
       "92   1.712030 -0.076787      0\n",
       "245  2.045876  0.363635      0\n",
       "104  1.362481  0.109544      0\n",
       "..        ...       ...    ...\n",
       "63   3.068619 -0.726251      0\n",
       "121  2.744063 -1.021786      0\n",
       "135  1.443360 -0.737314      0\n",
       "270  1.242338 -0.324372      0\n",
       "204  0.571230 -0.825884      0\n",
       "\n",
       "[300 rows x 3 columns]"
      ]
     },
     "execution_count": 64,
     "metadata": {},
     "output_type": "execute_result"
    }
   ],
   "source": [
    "df1"
   ]
  },
  {
   "cell_type": "code",
   "execution_count": 65,
   "id": "e3a891af",
   "metadata": {},
   "outputs": [],
   "source": [
    "train1, test1 = np.split(df1.sample(frac=1,random_state =101), [int(.8 * len(df1))])\n",
    "train2, test2 = np.split(df2.sample(frac=1,random_state =101), [int(.8 * len(df2))])"
   ]
  },
  {
   "cell_type": "code",
   "execution_count": 66,
   "id": "483ac84c",
   "metadata": {},
   "outputs": [],
   "source": [
    "train = pd.concat([train1,train2])\n",
    "test = pd.concat([test1,test2])"
   ]
  },
  {
   "cell_type": "code",
   "execution_count": 60,
   "id": "150be904",
   "metadata": {
    "scrolled": true
   },
   "outputs": [
    {
     "data": {
      "text/html": [
       "<div>\n",
       "<style scoped>\n",
       "    .dataframe tbody tr th:only-of-type {\n",
       "        vertical-align: middle;\n",
       "    }\n",
       "\n",
       "    .dataframe tbody tr th {\n",
       "        vertical-align: top;\n",
       "    }\n",
       "\n",
       "    .dataframe thead th {\n",
       "        text-align: right;\n",
       "    }\n",
       "</style>\n",
       "<table border=\"1\" class=\"dataframe\">\n",
       "  <thead>\n",
       "    <tr style=\"text-align: right;\">\n",
       "      <th></th>\n",
       "      <th>1</th>\n",
       "      <th>2</th>\n",
       "      <th>class</th>\n",
       "    </tr>\n",
       "  </thead>\n",
       "  <tbody>\n",
       "    <tr>\n",
       "      <th>281</th>\n",
       "      <td>2.130857</td>\n",
       "      <td>-0.100996</td>\n",
       "      <td>0</td>\n",
       "    </tr>\n",
       "    <tr>\n",
       "      <th>173</th>\n",
       "      <td>1.419544</td>\n",
       "      <td>-0.358314</td>\n",
       "      <td>0</td>\n",
       "    </tr>\n",
       "    <tr>\n",
       "      <th>132</th>\n",
       "      <td>0.770864</td>\n",
       "      <td>-0.521392</td>\n",
       "      <td>0</td>\n",
       "    </tr>\n",
       "    <tr>\n",
       "      <th>7</th>\n",
       "      <td>2.102433</td>\n",
       "      <td>0.031957</td>\n",
       "      <td>0</td>\n",
       "    </tr>\n",
       "    <tr>\n",
       "      <th>167</th>\n",
       "      <td>1.388770</td>\n",
       "      <td>-0.410440</td>\n",
       "      <td>0</td>\n",
       "    </tr>\n",
       "    <tr>\n",
       "      <th>...</th>\n",
       "      <td>...</td>\n",
       "      <td>...</td>\n",
       "      <td>...</td>\n",
       "    </tr>\n",
       "    <tr>\n",
       "      <th>407</th>\n",
       "      <td>-1.355548</td>\n",
       "      <td>-1.653628</td>\n",
       "      <td>1</td>\n",
       "    </tr>\n",
       "    <tr>\n",
       "      <th>518</th>\n",
       "      <td>-1.480355</td>\n",
       "      <td>-1.775653</td>\n",
       "      <td>1</td>\n",
       "    </tr>\n",
       "    <tr>\n",
       "      <th>560</th>\n",
       "      <td>-1.612893</td>\n",
       "      <td>-0.998344</td>\n",
       "      <td>1</td>\n",
       "    </tr>\n",
       "    <tr>\n",
       "      <th>524</th>\n",
       "      <td>-1.594173</td>\n",
       "      <td>-1.464701</td>\n",
       "      <td>1</td>\n",
       "    </tr>\n",
       "    <tr>\n",
       "      <th>471</th>\n",
       "      <td>-1.600219</td>\n",
       "      <td>-1.309559</td>\n",
       "      <td>1</td>\n",
       "    </tr>\n",
       "  </tbody>\n",
       "</table>\n",
       "<p>120 rows × 3 columns</p>\n",
       "</div>"
      ],
      "text/plain": [
       "            1         2  class\n",
       "281  2.130857 -0.100996      0\n",
       "173  1.419544 -0.358314      0\n",
       "132  0.770864 -0.521392      0\n",
       "7    2.102433  0.031957      0\n",
       "167  1.388770 -0.410440      0\n",
       "..        ...       ...    ...\n",
       "407 -1.355548 -1.653628      1\n",
       "518 -1.480355 -1.775653      1\n",
       "560 -1.612893 -0.998344      1\n",
       "524 -1.594173 -1.464701      1\n",
       "471 -1.600219 -1.309559      1\n",
       "\n",
       "[120 rows x 3 columns]"
      ]
     },
     "execution_count": 60,
     "metadata": {},
     "output_type": "execute_result"
    }
   ],
   "source": [
    "test"
   ]
  },
  {
   "cell_type": "code",
   "execution_count": 81,
   "id": "a00b268c",
   "metadata": {},
   "outputs": [
    {
     "data": {
      "text/plain": [
       "<AxesSubplot:>"
      ]
     },
     "execution_count": 81,
     "metadata": {},
     "output_type": "execute_result"
    },
    {
     "data": {
      "image/png": "[encoded data removed]",
      "text/plain": [
       "<Figure size 432x288 with 1 Axes>"
      ]
     },
     "metadata": {
      "needs_background": "light"
     },
     "output_type": "display_data"
    }
   ],
   "source": [
    "x_ = np.array(df.iloc[:600,0])\n",
    "y_ = np.array(df.iloc[:600,1])\n",
    "hu = np.array(df.iloc[0:600,25])\n",
    "sns.scatterplot(x=x_,y=y_,hue=hu,palette='seismic')"
   ]
  },
  {
   "cell_type": "code",
   "execution_count": 70,
   "id": "372ffa62",
   "metadata": {},
   "outputs": [],
   "source": [
    "train_features = np.array(train.iloc[:, :2])\n",
    "train_labels = np.array(train.iloc[:,2:])\n",
    "\n",
    "test_features = np.array(test.iloc[:, :2])\n",
    "test_labels = np.array(test.iloc[:,2:])"
   ]
  },
  {
   "cell_type": "code",
   "execution_count": 73,
   "id": "63e1e618",
   "metadata": {},
   "outputs": [],
   "source": [
    "scaler = StandardScaler()\n",
    "scaled_train_features = scaler.fit_transform(train_features)\n",
    "scaled_test_features = scaler.transform(test_features)"
   ]
  },
  {
   "cell_type": "code",
   "execution_count": 74,
   "id": "f8968e81",
   "metadata": {},
   "outputs": [
    {
     "name": "stdout",
     "output_type": "stream",
     "text": [
      "Best Parameters = {'C': 0.01, 'degree': 1, 'gamma': 'scale', 'kernel': 'poly'}, Best score = 0.9958333333333332\n"
     ]
    }
   ],
   "source": [
    "cross_val = StratifiedKFold(n_splits = 6)\n",
    "svc = SVC()\n",
    "param_grid = {'C':[0.001,0.01,0.1,0.5,0.8,1,5,10,50,100,500],'kernel':['rbf','poly','sigmoid','linear'],'gamma': ['scale','auto',0.001,0.01, 0.1,0.3,0.5,0.7,0.9,1], 'degree':np.arange(1,10)}\n",
    "grid = GridSearchCV(svc,param_grid,cv =cross_val)\n",
    "grid.fit(scaled_train_features,train_labels.ravel())\n",
    "grid_pred = grid.predict(scaled_test_features)\n",
    "print(f'Best Parameters = {grid.best_params_}, Best score = {grid.best_score_}')"
   ]
  },
  {
   "cell_type": "code",
   "execution_count": 120,
   "id": "fa12627a",
   "metadata": {},
   "outputs": [
    {
     "name": "stdout",
     "output_type": "stream",
     "text": [
      "Best Parameters = {'C': 1, 'degree': 1, 'gamma': 'scale', 'kernel': 'poly'}, Best score = 0.9958333333333332\n"
     ]
    }
   ],
   "source": [
    "cross_val = StratifiedKFold(n_splits = 6)\n",
    "svc = SVC()\n",
    "param_grid = {'C':[1],'kernel':['poly'],'gamma': ['scale'], 'degree':[1]}\n",
    "grid = GridSearchCV(svc,param_grid,cv =cross_val)\n",
    "grid.fit(scaled_train_features,train_labels.ravel())\n",
    "grid_pred = grid.predict(scaled_test_features)\n",
    "print(f'Best Parameters = {grid.best_params_}, Best score = {grid.best_score_}')"
   ]
  },
  {
   "cell_type": "code",
   "execution_count": 122,
   "id": "c86a6aff",
   "metadata": {},
   "outputs": [
    {
     "name": "stdout",
     "output_type": "stream",
     "text": [
      "Confusion Matrix\n",
      "[[59  1]\n",
      " [ 0 60]]\n",
      "Classification Report\n",
      "              precision    recall  f1-score   support\n",
      "\n",
      "           0       1.00      0.98      0.99        60\n",
      "           1       0.98      1.00      0.99        60\n",
      "\n",
      "    accuracy                           0.99       120\n",
      "   macro avg       0.99      0.99      0.99       120\n",
      "weighted avg       0.99      0.99      0.99       120\n",
      "\n"
     ]
    }
   ],
   "source": [
    "# cross_val = StratifiedKFold(n_splits = 6)\n",
    "svc = SVC(C = 1,kernel = 'poly',gamma= 'scale',degree=1)\n",
    "svc.fit(scaled_train_features,train_labels.ravel())\n",
    "pred = svc.predict(scaled_test_features)\n",
    "print('Confusion Matrix')\n",
    "print(confusion_matrix(test_labels,pred))\n",
    "print('Classification Report')\n",
    "print(classification_report(test_labels,pred))"
   ]
  },
  {
   "cell_type": "code",
   "execution_count": 123,
   "id": "98977adf",
   "metadata": {},
   "outputs": [],
   "source": [
    "def plot_svm_boundary(model,X,y):\n",
    "    \n",
    "    X = X.values\n",
    "    y = y.values\n",
    "    \n",
    "    # Scatter Plot\n",
    "    plt.scatter(X[:, 0], X[:, 1], c=y, s=30,cmap='seismic')\n",
    "\n",
    "    \n",
    "    # plot the decision function\n",
    "    ax = plt.gca()\n",
    "    xlim = ax.get_xlim()\n",
    "    ylim = ax.get_ylim()\n",
    "\n",
    "    # create grid to evaluate model\n",
    "    xx = np.linspace(xlim[0], xlim[1], 30)\n",
    "    yy = np.linspace(ylim[0], ylim[1], 30)\n",
    "    YY, XX = np.meshgrid(yy, xx)\n",
    "    xy = np.vstack([XX.ravel(), YY.ravel()]).T\n",
    "    Z = model.decision_function(xy).reshape(XX.shape)\n",
    "\n",
    "    # plot decision boundary and margins\n",
    "    ax.contour(XX, YY, Z, colors='k', levels=[-1, 0, 1], alpha=0.5,\n",
    "               linestyles=['--', '-', '--'])\n",
    "    # plot support vectors\n",
    "    ax.scatter(model.support_vectors_[:, 0], model.support_vectors_[:, 1], s=100,\n",
    "               linewidth=1, facecolors='none', edgecolors='k')\n",
    "    plt.show()"
   ]
  },
  {
   "cell_type": "code",
   "execution_count": 124,
   "id": "473a3e8b",
   "metadata": {},
   "outputs": [
    {
     "data": {
      "image/png": "[encoded data removed]",
      "text/plain": [
       "<Figure size 432x288 with 1 Axes>"
      ]
     },
     "metadata": {
      "needs_background": "light"
     },
     "output_type": "display_data"
    }
   ],
   "source": [
    "X = df.iloc[:600,:2]\n",
    "y = df.iloc[:600,25]\n",
    "plot_svm_boundary(svc,X,y)"
   ]
  },
  {
   "cell_type": "code",
   "execution_count": null,
   "id": "905f97f3",
   "metadata": {},
   "outputs": [],
   "source": [
    "grid."
   ]
  }
 ],
 "metadata": {
  "kernelspec": {
   "display_name": "Python 3 (ipykernel)",
   "language": "python",
   "name": "python3"
  },
  "language_info": {
   "codemirror_mode": {
    "name": "ipython",
    "version": 3
   },
   "file_extension": ".py",
   "mimetype": "text/x-python",
   "name": "python",
   "nbconvert_exporter": "python",
   "pygments_lexer": "ipython3",
   "version": "3.9.12"
  }
 },
 "nbformat": 4,
 "nbformat_minor": 5
}
