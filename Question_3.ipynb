{
 "cells": [
  {
   "cell_type": "code",
   "execution_count": 1,
   "id": "2f932627",
   "metadata": {},
   "outputs": [],
   "source": [
    "import numpy as np\n",
    "import pandas as pd\n",
    "import matplotlib.pyplot as plt\n",
    "import seaborn as sns"
   ]
  },
  {
   "cell_type": "code",
   "execution_count": 2,
   "id": "1d32c308",
   "metadata": {},
   "outputs": [],
   "source": [
    "df = pd.read_csv(\"train_Q2.csv\")"
   ]
  },
  {
   "cell_type": "code",
   "execution_count": 3,
   "id": "3115b65e",
   "metadata": {},
   "outputs": [
    {
     "data": {
      "text/plain": [
       "(110, 2)"
      ]
     },
     "execution_count": 3,
     "metadata": {},
     "output_type": "execute_result"
    }
   ],
   "source": [
    "df.shape"
   ]
  },
  {
   "cell_type": "code",
   "execution_count": 4,
   "id": "1ddcc653",
   "metadata": {},
   "outputs": [
    {
     "data": {
      "text/html": [
       "<div>\n",
       "<style scoped>\n",
       "    .dataframe tbody tr th:only-of-type {\n",
       "        vertical-align: middle;\n",
       "    }\n",
       "\n",
       "    .dataframe tbody tr th {\n",
       "        vertical-align: top;\n",
       "    }\n",
       "\n",
       "    .dataframe thead th {\n",
       "        text-align: right;\n",
       "    }\n",
       "</style>\n",
       "<table border=\"1\" class=\"dataframe\">\n",
       "  <thead>\n",
       "    <tr style=\"text-align: right;\">\n",
       "      <th></th>\n",
       "      <th>id</th>\n",
       "      <th>value</th>\n",
       "    </tr>\n",
       "  </thead>\n",
       "  <tbody>\n",
       "    <tr>\n",
       "      <th>0</th>\n",
       "      <td>11/1/04</td>\n",
       "      <td>0.5992</td>\n",
       "    </tr>\n",
       "    <tr>\n",
       "      <th>1</th>\n",
       "      <td>10/1/12</td>\n",
       "      <td>0.9259</td>\n",
       "    </tr>\n",
       "    <tr>\n",
       "      <th>2</th>\n",
       "      <td>1/1/07</td>\n",
       "      <td>5.9182</td>\n",
       "    </tr>\n",
       "    <tr>\n",
       "      <th>3</th>\n",
       "      <td>2/1/06</td>\n",
       "      <td>9.2365</td>\n",
       "    </tr>\n",
       "    <tr>\n",
       "      <th>4</th>\n",
       "      <td>6/1/07</td>\n",
       "      <td>22.7446</td>\n",
       "    </tr>\n",
       "  </tbody>\n",
       "</table>\n",
       "</div>"
      ],
      "text/plain": [
       "        id    value\n",
       "0  11/1/04   0.5992\n",
       "1  10/1/12   0.9259\n",
       "2   1/1/07   5.9182\n",
       "3   2/1/06   9.2365\n",
       "4   6/1/07  22.7446"
      ]
     },
     "execution_count": 4,
     "metadata": {},
     "output_type": "execute_result"
    }
   ],
   "source": [
    "df.head()"
   ]
  },
  {
   "cell_type": "code",
   "execution_count": 5,
   "id": "8f92a136",
   "metadata": {},
   "outputs": [],
   "source": [
    "df_test = pd.read_csv(\"test_Q2.csv\")"
   ]
  },
  {
   "cell_type": "code",
   "execution_count": 6,
   "id": "eaace7c2",
   "metadata": {},
   "outputs": [
    {
     "data": {
      "text/plain": [
       "(10, 1)"
      ]
     },
     "execution_count": 6,
     "metadata": {},
     "output_type": "execute_result"
    }
   ],
   "source": [
    "df_test.shape"
   ]
  },
  {
   "cell_type": "code",
   "execution_count": 7,
   "id": "b7809e26",
   "metadata": {},
   "outputs": [
    {
     "data": {
      "text/html": [
       "<div>\n",
       "<style scoped>\n",
       "    .dataframe tbody tr th:only-of-type {\n",
       "        vertical-align: middle;\n",
       "    }\n",
       "\n",
       "    .dataframe tbody tr th {\n",
       "        vertical-align: top;\n",
       "    }\n",
       "\n",
       "    .dataframe thead th {\n",
       "        text-align: right;\n",
       "    }\n",
       "</style>\n",
       "<table border=\"1\" class=\"dataframe\">\n",
       "  <thead>\n",
       "    <tr style=\"text-align: right;\">\n",
       "      <th></th>\n",
       "      <th>id</th>\n",
       "    </tr>\n",
       "  </thead>\n",
       "  <tbody>\n",
       "    <tr>\n",
       "      <th>0</th>\n",
       "      <td>5/1/10</td>\n",
       "    </tr>\n",
       "    <tr>\n",
       "      <th>1</th>\n",
       "      <td>4/1/09</td>\n",
       "    </tr>\n",
       "    <tr>\n",
       "      <th>2</th>\n",
       "      <td>9/1/13</td>\n",
       "    </tr>\n",
       "    <tr>\n",
       "      <th>3</th>\n",
       "      <td>1/1/06</td>\n",
       "    </tr>\n",
       "    <tr>\n",
       "      <th>4</th>\n",
       "      <td>2/1/07</td>\n",
       "    </tr>\n",
       "  </tbody>\n",
       "</table>\n",
       "</div>"
      ],
      "text/plain": [
       "       id\n",
       "0  5/1/10\n",
       "1  4/1/09\n",
       "2  9/1/13\n",
       "3  1/1/06\n",
       "4  2/1/07"
      ]
     },
     "execution_count": 7,
     "metadata": {},
     "output_type": "execute_result"
    }
   ],
   "source": [
    "df_test.head()"
   ]
  },
  {
   "cell_type": "code",
   "execution_count": 8,
   "id": "83db3329",
   "metadata": {},
   "outputs": [],
   "source": [
    "import datetime as dt\n",
    "df['id'] = pd.to_datetime(df['id'])\n",
    "df_test['date'] = pd.to_datetime(df_test['id'])"
   ]
  },
  {
   "cell_type": "code",
   "execution_count": 9,
   "id": "a95c53f8",
   "metadata": {},
   "outputs": [],
   "source": [
    "df['day']=df['id'].dt.day\n",
    "df['month'] = df['id'].dt.month\n",
    "df['year'] = df['id'].dt.year"
   ]
  },
  {
   "cell_type": "code",
   "execution_count": 10,
   "id": "e801a934",
   "metadata": {},
   "outputs": [
    {
     "data": {
      "image/png": "[encoded data removed]",
      "text/plain": [
       "<Figure size 432x288 with 1 Axes>"
      ]
     },
     "metadata": {
      "needs_background": "light"
     },
     "output_type": "display_data"
    }
   ],
   "source": [
    "plt.scatter(df['day'],df['value'])\n",
    "plt.show()"
   ]
  },
  {
   "cell_type": "code",
   "execution_count": 11,
   "id": "7c913029",
   "metadata": {},
   "outputs": [
    {
     "data": {
      "image/png": "[encoded data removed]",
      "text/plain": [
       "<Figure size 432x288 with 1 Axes>"
      ]
     },
     "metadata": {
      "needs_background": "light"
     },
     "output_type": "display_data"
    }
   ],
   "source": [
    "plt.scatter(df['year'],df['value'])\n",
    "plt.show()"
   ]
  },
  {
   "cell_type": "code",
   "execution_count": 12,
   "id": "6816a7d8",
   "metadata": {},
   "outputs": [],
   "source": [
    "df_test['month'] = df_test['date'].dt.month"
   ]
  },
  {
   "cell_type": "code",
   "execution_count": 13,
   "id": "7d87f517",
   "metadata": {},
   "outputs": [
    {
     "data": {
      "text/html": [
       "<div>\n",
       "<style scoped>\n",
       "    .dataframe tbody tr th:only-of-type {\n",
       "        vertical-align: middle;\n",
       "    }\n",
       "\n",
       "    .dataframe tbody tr th {\n",
       "        vertical-align: top;\n",
       "    }\n",
       "\n",
       "    .dataframe thead th {\n",
       "        text-align: right;\n",
       "    }\n",
       "</style>\n",
       "<table border=\"1\" class=\"dataframe\">\n",
       "  <thead>\n",
       "    <tr style=\"text-align: right;\">\n",
       "      <th></th>\n",
       "      <th>id</th>\n",
       "      <th>date</th>\n",
       "      <th>month</th>\n",
       "    </tr>\n",
       "  </thead>\n",
       "  <tbody>\n",
       "    <tr>\n",
       "      <th>0</th>\n",
       "      <td>5/1/10</td>\n",
       "      <td>2010-05-01</td>\n",
       "      <td>5</td>\n",
       "    </tr>\n",
       "    <tr>\n",
       "      <th>1</th>\n",
       "      <td>4/1/09</td>\n",
       "      <td>2009-04-01</td>\n",
       "      <td>4</td>\n",
       "    </tr>\n",
       "    <tr>\n",
       "      <th>2</th>\n",
       "      <td>9/1/13</td>\n",
       "      <td>2013-09-01</td>\n",
       "      <td>9</td>\n",
       "    </tr>\n",
       "    <tr>\n",
       "      <th>3</th>\n",
       "      <td>1/1/06</td>\n",
       "      <td>2006-01-01</td>\n",
       "      <td>1</td>\n",
       "    </tr>\n",
       "    <tr>\n",
       "      <th>4</th>\n",
       "      <td>2/1/07</td>\n",
       "      <td>2007-02-01</td>\n",
       "      <td>2</td>\n",
       "    </tr>\n",
       "  </tbody>\n",
       "</table>\n",
       "</div>"
      ],
      "text/plain": [
       "       id       date  month\n",
       "0  5/1/10 2010-05-01      5\n",
       "1  4/1/09 2009-04-01      4\n",
       "2  9/1/13 2013-09-01      9\n",
       "3  1/1/06 2006-01-01      1\n",
       "4  2/1/07 2007-02-01      2"
      ]
     },
     "execution_count": 13,
     "metadata": {},
     "output_type": "execute_result"
    }
   ],
   "source": [
    "df_test.head()"
   ]
  },
  {
   "cell_type": "code",
   "execution_count": 14,
   "id": "29e7f91a",
   "metadata": {},
   "outputs": [
    {
     "data": {
      "image/png": "[encoded data removed]",
      "text/plain": [
       "<Figure size 432x288 with 1 Axes>"
      ]
     },
     "metadata": {
      "needs_background": "light"
     },
     "output_type": "display_data"
    }
   ],
   "source": [
    "plt.scatter(df['month'],df['value'])\n",
    "plt.show()"
   ]
  },
  {
   "cell_type": "code",
   "execution_count": 15,
   "id": "a235112a",
   "metadata": {},
   "outputs": [],
   "source": [
    "df =df.drop(['id','day','year'],axis=1)"
   ]
  },
  {
   "cell_type": "code",
   "execution_count": 16,
   "id": "815cb288",
   "metadata": {},
   "outputs": [
    {
     "data": {
      "text/html": [
       "<div>\n",
       "<style scoped>\n",
       "    .dataframe tbody tr th:only-of-type {\n",
       "        vertical-align: middle;\n",
       "    }\n",
       "\n",
       "    .dataframe tbody tr th {\n",
       "        vertical-align: top;\n",
       "    }\n",
       "\n",
       "    .dataframe thead th {\n",
       "        text-align: right;\n",
       "    }\n",
       "</style>\n",
       "<table border=\"1\" class=\"dataframe\">\n",
       "  <thead>\n",
       "    <tr style=\"text-align: right;\">\n",
       "      <th></th>\n",
       "      <th>value</th>\n",
       "      <th>month</th>\n",
       "    </tr>\n",
       "  </thead>\n",
       "  <tbody>\n",
       "    <tr>\n",
       "      <th>0</th>\n",
       "      <td>0.5992</td>\n",
       "      <td>11</td>\n",
       "    </tr>\n",
       "    <tr>\n",
       "      <th>1</th>\n",
       "      <td>0.9259</td>\n",
       "      <td>10</td>\n",
       "    </tr>\n",
       "    <tr>\n",
       "      <th>2</th>\n",
       "      <td>5.9182</td>\n",
       "      <td>1</td>\n",
       "    </tr>\n",
       "    <tr>\n",
       "      <th>3</th>\n",
       "      <td>9.2365</td>\n",
       "      <td>2</td>\n",
       "    </tr>\n",
       "    <tr>\n",
       "      <th>4</th>\n",
       "      <td>22.7446</td>\n",
       "      <td>6</td>\n",
       "    </tr>\n",
       "  </tbody>\n",
       "</table>\n",
       "</div>"
      ],
      "text/plain": [
       "     value  month\n",
       "0   0.5992     11\n",
       "1   0.9259     10\n",
       "2   5.9182      1\n",
       "3   9.2365      2\n",
       "4  22.7446      6"
      ]
     },
     "execution_count": 16,
     "metadata": {},
     "output_type": "execute_result"
    }
   ],
   "source": [
    "df.head()"
   ]
  },
  {
   "cell_type": "code",
   "execution_count": 17,
   "id": "fa04b9b5",
   "metadata": {},
   "outputs": [
    {
     "data": {
      "text/plain": [
       "<matplotlib.collections.PathCollection at 0x1ce1ff9c790>"
      ]
     },
     "execution_count": 17,
     "metadata": {},
     "output_type": "execute_result"
    },
    {
     "data": {
      "image/png": "[encoded data removed]",
      "text/plain": [
       "<Figure size 432x288 with 1 Axes>"
      ]
     },
     "metadata": {
      "needs_background": "light"
     },
     "output_type": "display_data"
    }
   ],
   "source": [
    "plt.scatter(df['month'],df['value'])"
   ]
  },
  {
   "cell_type": "code",
   "execution_count": 18,
   "id": "3df5f446",
   "metadata": {},
   "outputs": [],
   "source": [
    "#  creating x and y\n",
    "x = np.array(df['month']).reshape(-1,1)\n",
    "y = np.array(df['value']).reshape(-1,1)"
   ]
  },
  {
   "cell_type": "code",
   "execution_count": 19,
   "id": "52a37ef1",
   "metadata": {},
   "outputs": [],
   "source": [
    "z =np.array(df_test['month']).reshape(-1,1)"
   ]
  },
  {
   "cell_type": "code",
   "execution_count": 20,
   "id": "7558f08e",
   "metadata": {},
   "outputs": [],
   "source": [
    "# Train - test - split\n",
    "from sklearn.model_selection import train_test_split\n",
    "# x_train, x_test, y_train, y_test = train_test_split(x, y, test_size=0.33, random_state=101)"
   ]
  },
  {
   "cell_type": "code",
   "execution_count": 21,
   "id": "38bebc01",
   "metadata": {},
   "outputs": [],
   "source": [
    "from sklearn.model_selection import cross_validate\n",
    "from sklearn.preprocessing import PolynomialFeatures\n",
    "from sklearn.metrics import mean_squared_error\n",
    "from sklearn.linear_model import LinearRegression\n",
    "from sklearn.model_selection import GridSearchCV\n",
    "from sklearn.linear_model import ElasticNet\n",
    "from sklearn.linear_model import Ridge"
   ]
  },
  {
   "cell_type": "code",
   "execution_count": 22,
   "id": "d05b6d9c",
   "metadata": {},
   "outputs": [
    {
     "data": {
      "image/png": "[encoded data removed]",
      "text/plain": [
       "<Figure size 432x288 with 1 Axes>"
      ]
     },
     "metadata": {
      "needs_background": "light"
     },
     "output_type": "display_data"
    }
   ],
   "source": [
    "MSE_train = []\n",
    "MSE_test = []\n",
    "for d in range(1,15):\n",
    "\n",
    "    # Creating polynomial data for degree 'd'\n",
    "    polynomial_converter = PolynomialFeatures(degree=d,interaction_only =False,include_bias=True)\n",
    "    poly_features = polynomial_converter.fit_transform(x)\n",
    "\n",
    "    x_train, x_test, y_train, y_test = train_test_split(poly_features, y, test_size=0.33, random_state=101)\n",
    "    # Training on new polynomial dataset\n",
    "    model = LinearRegression()\n",
    "    model.fit(x_train,y_train)\n",
    "    \n",
    "    scores = cross_validate(model,x_train,y_train,\n",
    "                         scoring='neg_mean_squared_error',cv=10)\n",
    "    \n",
    "    # Mean squared error for test set\n",
    "    \n",
    "\n",
    "    # Prediction on both training and testing set\n",
    "    train_pred = model.predict(x_train)\n",
    "    test_pred = model.predict(x_test)\n",
    "    \n",
    "    # Mean squared error for test set\n",
    "    MSE_test.append(mean_squared_error(y_test,test_pred))\n",
    "    MSE_train.append(mean_squared_error(y_train,train_pred))\n",
    "\n",
    "fig = plt.figure()\n",
    "axes1 = fig.add_axes([0,0,1,1])\n",
    "plt.plot(range(1,15),MSE_train,label='Train error')\n",
    "plt.plot(range(1,15),MSE_test,label='Test error')\n",
    "plt.xlabel(\"Model Complexity (M)\")\n",
    "plt.ylabel(\"MSE\")\n",
    "# axes1.set_ylim(0,200)\n",
    "plt.legend()\n",
    "plt.show()"
   ]
  },
  {
   "cell_type": "code",
   "execution_count": 23,
   "id": "b744c4e6",
   "metadata": {},
   "outputs": [
    {
     "name": "stdout",
     "output_type": "stream",
     "text": [
      "Train root mean squared error is 2.4359409390478315\n",
      "Test root mean squared error is 2.7621613738942554\n"
     ]
    }
   ],
   "source": [
    "final_poly_converter = PolynomialFeatures(degree =6,interaction_only =False,include_bias=True)\n",
    "final_poly_features = final_poly_converter.fit_transform(x)\n",
    "poly_features_test = final_poly_converter.fit_transform(z)\n",
    "x_train, x_test, y_train, y_test = train_test_split(final_poly_features, y, test_size=0.3, random_state=101)\n",
    "    \n",
    "# Training\n",
    "final_model = LinearRegression()\n",
    "final_model.fit(x_train,y_train)\n",
    "\n",
    "# Prediction on both training and testing set\n",
    "train_pred_ = final_model.predict(x_train)\n",
    "test_pred_ = final_model.predict(x_test)\n",
    "\n",
    "scores = cross_validate(model,x_train,y_train,\n",
    "                         scoring='neg_mean_squared_error',cv=10)\n",
    "# Calculation of errors\n",
    "\n",
    "# Errors on Train Set\n",
    "train_RMSE_ = np.sqrt(mean_squared_error(y_train,train_pred_))\n",
    "print(f'Train root mean squared error is {train_RMSE_}')\n",
    "# Errors on Test Set\n",
    "test_RMSE_ = np.sqrt(mean_squared_error(y_test,test_pred_))\n",
    "print(f'Test root mean squared error is {test_RMSE_}')\n",
    "final_test_result = final_model.predict(poly_features_test)\n",
    "# df_test['value'] = pd.Series(final_test_result)"
   ]
  },
  {
   "cell_type": "code",
   "execution_count": 24,
   "id": "d68c80cf",
   "metadata": {},
   "outputs": [],
   "source": [
    "final_test_result = final_test_result.flatten()"
   ]
  },
  {
   "cell_type": "code",
   "execution_count": 25,
   "id": "30fdd82c",
   "metadata": {},
   "outputs": [
    {
     "data": {
      "text/plain": [
       "array([25.74907066, 21.24953843,  5.05103739,  3.492185  ,  6.09050951,\n",
       "       12.47852838, 25.317204  , 13.53354559,  0.28244443, 20.22758693])"
      ]
     },
     "execution_count": 25,
     "metadata": {},
     "output_type": "execute_result"
    }
   ],
   "source": [
    "final_test_result\n",
    "# df_test['value'] = pd.DataFrame(final_test_result)"
   ]
  },
  {
   "cell_type": "code",
   "execution_count": 26,
   "id": "245d8bd0",
   "metadata": {},
   "outputs": [
    {
     "name": "stdout",
     "output_type": "stream",
     "text": [
      "DataFrame:\n",
      "         id      value\n",
      "0   5/1/10  25.749071\n",
      "1   4/1/09  21.249538\n",
      "2   9/1/13   5.051037\n",
      "3   1/1/06   3.492185\n",
      "4   2/1/07   6.090510\n",
      "5   8/1/12  12.478528\n",
      "6   6/1/14  25.317204\n",
      "7   3/1/08  13.533546\n",
      "8  12/1/04   0.282444\n",
      "9   7/1/11  20.227587\n"
     ]
    }
   ],
   "source": [
    "\n",
    "# df_ = pd.DataFrame({'id': np.array(df_test['id']).reshape(10,1), 'value':np.array(final_test_result).reshape(10,1)})\n",
    "df_ = pd.DataFrame({'id': df_test['id'], 'value':final_test_result})\n",
    "\n",
    "print('DataFrame:\\n', df_)\n",
    "\n",
    "# default CSV\n",
    "df_.to_csv('result_final1.csv')\n",
    "# print('\\nCSV String:\\n', csv_data)"
   ]
  },
  {
   "cell_type": "code",
   "execution_count": null,
   "id": "91b927f2",
   "metadata": {},
   "outputs": [],
   "source": []
  }
 ],
 "metadata": {
  "kernelspec": {
   "display_name": "Python 3 (ipykernel)",
   "language": "python",
   "name": "python3"
  },
  "language_info": {
   "codemirror_mode": {
    "name": "ipython",
    "version": 3
   },
   "file_extension": ".py",
   "mimetype": "text/x-python",
   "name": "python",
   "nbconvert_exporter": "python",
   "pygments_lexer": "ipython3",
   "version": "3.9.7"
  }
 },
 "nbformat": 4,
 "nbformat_minor": 5
}
